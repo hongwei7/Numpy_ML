{
 "cells": [
  {
   "cell_type": "code",
   "execution_count": 1,
   "metadata": {},
   "outputs": [
    {
     "name": "stdout",
     "output_type": "stream",
     "text": [
      "preparing data...\n",
      "done!\n"
     ]
    },
    {
     "data": {
      "text/plain": [
       "(150, 4)"
      ]
     },
     "execution_count": 1,
     "metadata": {},
     "output_type": "execute_result"
    }
   ],
   "source": [
    "#准备数据\n",
    "import numpy as np\n",
    "print('preparing data...')\n",
    "from sklearn import datasets\n",
    "import numpy as np\n",
    "iris=datasets.load_iris()\n",
    "iris.keys()\n",
    "X=iris['data']\n",
    "y=(iris['target']).astype(np.int)\n",
    "print('done!')\n",
    "X.shape"
   ]
  },
  {
   "cell_type": "code",
   "execution_count": 3,
   "metadata": {},
   "outputs": [
    {
     "name": "stdout",
     "output_type": "stream",
     "text": [
      "train_error: 0.18257418583505536 val_error: 0.14907119849998599 best_epoch: 8\n"
     ]
    },
    {
     "data": {
      "text/plain": [
       "(array([0, 0, 0, 0, 0, 0, 0, 0, 0, 0, 0, 0, 0, 0, 0, 0, 0, 0, 0, 0, 0, 0,\n",
       "        0, 0, 0, 0, 0, 0, 0, 0, 0, 0, 0, 0, 0, 0, 0, 0, 0, 0, 0, 0, 0, 0,\n",
       "        0, 0, 0, 0, 0, 0, 1, 1, 1, 1, 1, 1, 1, 1, 1, 1, 1, 1, 1, 1, 1, 1,\n",
       "        1, 1, 1, 1, 2, 1, 2, 1, 1, 1, 1, 1, 1, 1, 1, 1, 1, 2, 2, 1, 1, 1,\n",
       "        1, 1, 1, 1, 1, 1, 1, 1, 1, 1, 1, 1, 2, 2, 2, 2, 2, 2, 2, 2, 2, 2,\n",
       "        2, 2, 2, 2, 2, 2, 2, 2, 2, 2, 2, 2, 2, 2, 2, 2, 2, 2, 2, 2, 2, 2,\n",
       "        2, 2, 2, 2, 2, 2, 2, 2, 2, 2, 2, 2, 2, 2, 2, 2, 2, 2]),\n",
       " 0.9733333333333334)"
      ]
     },
     "execution_count": 3,
     "metadata": {},
     "output_type": "execute_result"
    }
   ],
   "source": [
    " def fit(X,y,theta=None):\n",
    "    eta=0.1\n",
    "    sort_number=3   #sortnumber代表类别个数 以及类别标签\n",
    "    if theta==None:\n",
    "        theta=np.random.rand(X.shape[1],sort_number)\n",
    "        old_theta=np.zeros((X.shape[1],sort_number))\n",
    "    for i in range(100):\n",
    "        old_theta=theta\n",
    "        for k in range(sort_number):\n",
    "            yk=y==k\n",
    "            yk=yk.astype(int)\n",
    "            s=(old_theta.T).dot(X.T)\n",
    "            sk=s[k,:]\n",
    "            s_sum=np.exp(s[0,:])\n",
    "            for j in range(sort_number-1):\n",
    "                s_sum=s_sum+np.exp(s[j+1,:])\n",
    "            pk=np.exp(sk)/s_sum\n",
    "            delta=1/len(X)*((pk-yk)).dot(X)\n",
    "            theta[:,k]=old_theta[:,k]-eta*delta\n",
    "    return theta\n",
    "def predict(x,theta):\n",
    "    pro=np.exp(theta.T.dot(x.T))/sum(np.exp(theta.T.dot(x.T)))\n",
    "    return np.argmax(pro,axis=0)\n",
    "def early_stopping_predict(X,y,x):\n",
    "    from sklearn.model_selection import train_test_split\n",
    "    x_train,x_val,y_train,y_val=train_test_split(X,y,test_size=0.6)\n",
    "    best_theta=None\n",
    "    best_epoch=None\n",
    "    min_val_error=float('inf')\n",
    "    for epoch in range(80):\n",
    "        theta=fit(x_train,y_train)\n",
    "        train_mean_error=(((predict(x_train,theta)-y_train)**2).sum()/len(x_train))**0.5\n",
    "        val_mean_error=(((predict(x_val,theta)-y_val)**2).sum()/len(x_val))**0.5\n",
    "        if val_mean_error<min_val_error:\n",
    "            best_theta=theta\n",
    "            best_epoch=epoch\n",
    "            min_val_error=val_mean_error\n",
    "            best_train_error=train_mean_error\n",
    "    print('train_error:',best_train_error,'val_error:',min_val_error,'best_epoch:',best_epoch)\n",
    "    return predict(x,best_theta)\n",
    "pre_y=early_stopping_predict(X,y,X)\n",
    "pre_y,sum(pre_y==y)/len(y)"
   ]
  },
  {
   "cell_type": "code",
   "execution_count": 4,
   "metadata": {},
   "outputs": [],
   "source": [
    "from collections import Counter\n",
    "import numpy as np\n",
    "#决策树\n",
    "\n",
    "class s_data(object):\n",
    "    def __init__(self, x, y):\n",
    "        self.x = x\n",
    "        self.y = y\n",
    "\n",
    "class node(object):\n",
    "    def __init__(self, data, index_list):\n",
    "        self.data = data\n",
    "        self.clas = Counter(data.y).most_common()[0][0]\n",
    "        self.index_list = index_list\n",
    "\n",
    "class condition_node(object):\n",
    "    def __init__(self, f_index, index_list, data,alpha):\n",
    "        self.alpha=alpha\n",
    "        self.data = data\n",
    "        self.f_index = f_index\n",
    "        self.index_list = index_list\n",
    "        self.clas = Counter(data.y).most_common()[0][0]\n",
    "\n",
    "    def create_nodes(self, data):\n",
    "        self.branches = dict()\n",
    "        for f in set(data.x.T[self.f_index]):\n",
    "            self.branches[f] = create_tree(s_data(\n",
    "                data.x[data.x.T[self.f_index] == f], data.y[data.x.T[self.f_index] == f]), self.index_list,alpha=self.alpha)\n",
    "\n",
    "    def judge(self, x):\n",
    "        return self.data_list[x[self.f_index]]\n",
    "\n",
    "def claculate_H_D(data):\n",
    "    H_D = 0\n",
    "    for yi in set(data.y):\n",
    "        Ck_D = (data.y == yi).sum() / len(data.y)\n",
    "        H_D += -Ck_D * np.log(Ck_D)\n",
    "    return H_D\n",
    "\n",
    "def claculate_H_D_A(data, A):\n",
    "    H_D_A = 0\n",
    "    for a in set(data.x.T[A]):\n",
    "        H_D_A += (data.x.T[A] == a).sum() / len(data.y) * claculate_H_D(\n",
    "            s_data(data.x[data.x.T[A] == a], data.y[data.x.T[A] == a]))\n",
    "    return H_D_A\n",
    "\n",
    "\n",
    "def claculate_max_g(data, index_list,alpha):\n",
    "    max_index = index_list[0]\n",
    "    max_g = 0\n",
    "    H_D = claculate_H_D(data)\n",
    "    for index in index_list:\n",
    "        g_D_index = (H_D - claculate_H_D_A(data, index)) +alpha*(len(Counter(data.x.T[index]).keys())-1)\n",
    "        if max_g < g_D_index:\n",
    "            max_index = index\n",
    "            max_g = g_D_index\n",
    "    if max_g!=0:\n",
    "        print('max_g:', max_g)\n",
    "    return max_index, max_g\n",
    "\n",
    "\n",
    "def create_tree(data, index_list, alpha,_e=0.1):\n",
    "    if len(Counter(data.y)) <= 1 or len(data.y) == 0 or len(index_list) <= 1:\n",
    "        return node(data, index_list)\n",
    "    else:\n",
    "        f_index, f_g = claculate_max_g(data, index_list,alpha)\n",
    "        if f_g <= _e:\n",
    "            return node(data, index_list)\n",
    "        print(f_index, index_list)\n",
    "        index_list.remove(f_index)\n",
    "        branch = condition_node(\n",
    "            f_index=f_index, index_list=index_list, data=data,alpha=alpha)\n",
    "        branch.create_nodes(data)\n",
    "        return branch\n",
    "\n",
    "\n",
    "\n",
    "def predict(root, x):\n",
    "    result = []\n",
    "    for xi in x:\n",
    "        locate = root\n",
    "        while(1):\n",
    "            try:\n",
    "                locate = locate.branches[xi[locate.f_index]]\n",
    "            except:\n",
    "                result.append(locate.clas)\n",
    "                break\n",
    "    return result\n",
    "\n"
   ]
  },
  {
   "cell_type": "code",
   "execution_count": 12,
   "metadata": {},
   "outputs": [
    {
     "name": "stdout",
     "output_type": "stream",
     "text": [
      "max_g: 9.402510220562348\n",
      "2 [0, 1, 2, 3]\n",
      "max_g: 1.5767701612564369\n",
      "0 [0, 1, 3]\n",
      "max_g: 1.4730116670092566\n",
      "1 [1, 3]\n",
      "0.9733333333333334\n"
     ]
    }
   ],
   "source": [
    "data = s_data(X, y)\n",
    "index_list = (list(range(data.x.shape[1])))\n",
    "decision_tree = create_tree(data, index_list,0.2)\n",
    "pre_y = predict(decision_tree,data.x)\n",
    "print((np.array(pre_y) == data.y).sum() / len(pre_y))"
   ]
  },
  {
   "cell_type": "code",
   "execution_count": null,
   "metadata": {},
   "outputs": [],
   "source": []
  }
 ],
 "metadata": {
  "kernelspec": {
   "display_name": "Python 3",
   "language": "python",
   "name": "python3"
  },
  "language_info": {
   "codemirror_mode": {
    "name": "ipython",
    "version": 3
   },
   "file_extension": ".py",
   "mimetype": "text/x-python",
   "name": "python",
   "nbconvert_exporter": "python",
   "pygments_lexer": "ipython3",
   "version": "3.7.0"
  }
 },
 "nbformat": 4,
 "nbformat_minor": 2
}
