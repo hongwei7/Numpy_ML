{
 "cells": [
  {
   "cell_type": "code",
   "execution_count": 48,
   "metadata": {
    "scrolled": true
   },
   "outputs": [
    {
     "name": "stdout",
     "output_type": "stream",
     "text": [
      "done\n"
     ]
    }
   ],
   "source": [
    "import pandas as pd\n",
    "file=pd.read_csv('mnist_train.csv')\n",
    "mnist=dict()\n",
    "mnist['data']=file\n",
    "mnist['target']=file['label']\n",
    "del mnist['data']['label']\n",
    "mnist['data']=mnist['data'].values\n",
    "mnist['target']=mnist['target'].values\n",
    "X,y=mnist['data'],mnist['target']\n",
    "\n",
    "print('done')"
   ]
  },
  {
   "cell_type": "code",
   "execution_count": 49,
   "metadata": {},
   "outputs": [],
   "source": [
    "X_train,y_train,X_test,y_test=X[:50000,128:-128],y[:50000],X[4100:4101,128:-128],y[4100:4101]\n",
    "import numpy as np\n",
    "shuffle_index=np.random.permutation(50000)\n",
    "X_train,y_train=X_train[shuffle_index],y_train[shuffle_index]\n",
    "X_train=X_train[:5]\n",
    "y_train=y_train[:5]\n",
    "X_train=np.matrix(X_train).T\n",
    "X_test=np.matrix(X_test).T\n",
    "y_train=np.matrix(y_train).T\n",
    "y_test=np.matrix(y_test).T"
   ]
  },
  {
   "cell_type": "code",
   "execution_count": 50,
   "metadata": {},
   "outputs": [
    {
     "data": {
      "text/plain": [
       "(528, 5)"
      ]
     },
     "execution_count": 50,
     "metadata": {},
     "output_type": "execute_result"
    }
   ],
   "source": [
    "X_train.shape"
   ]
  },
  {
   "cell_type": "code",
   "execution_count": 51,
   "metadata": {},
   "outputs": [],
   "source": [
    "class node(object):\n",
    "    def __init__(self, dataset, depth=0, parent=None, median=None):\n",
    "        self.parent = parent\n",
    "        self.median = median\n",
    "        self.depth = depth\n",
    "        self.data = dataset\n",
    "        self.create_child_node()\n",
    "\n",
    "    def create_child_node(self):\n",
    "        if self.data.shape[1] <= 1:\n",
    "            if self.data.shape[1] == 1:\n",
    "                self.value = self.data\n",
    "            else:\n",
    "                self.value = None\n",
    "            return\n",
    "        else:\n",
    "            self.median = np.median(self.data[(self.depth)], axis=1)\n",
    "            median = self.median\n",
    "            left = self.data[np.repeat(self.data[self.depth, :] < median, self.data.shape[0]).reshape(\n",
    "                self.data.shape[1], self.data.shape[0]).T]\n",
    "            left = left.reshape(self.data.shape[0], int(\n",
    "                left.shape[1] / self.data.shape[0]))\n",
    "            right = self.data[np.repeat(self.data[self.depth, :] >= median, self.data.shape[0]).reshape(\n",
    "                self.data.shape[1], self.data.shape[0]).T]\n",
    "            right = right.reshape(self.data.shape[0], int(\n",
    "                right.shape[1] / self.data.shape[0]))\n",
    "            self.left = node(depth=(self.depth + 1) %\n",
    "                             self.data.shape[0], parent=self, dataset=left)\n",
    "            self.right = node(depth=(self.depth + 1) %\n",
    "                              self.data.shape[0], parent=self, dataset=right)\n",
    "            self.value = self.data[:, 0]\n",
    "\n",
    "\n",
    "class kdd_KNN(object):\n",
    "    def fit(self, X, y):\n",
    "        self.X=X\n",
    "        self.kdtree = node(self.X)\n",
    "\n",
    "    def predict(self, x):\n",
    "        x = x.T\n",
    "        result = []\n",
    "        i = 0\n",
    "        for xi in x:\n",
    "            i += 1\n",
    "            print(i)\n",
    "            xi = xi.T\n",
    "            cloest = self.find(xi, self.kdtree)\n",
    "            result.append(\n",
    "                y[np.where((self.X == cloest).sum(axis=0) == xi.shape[0])[1]][0])\n",
    "        return result\n",
    "\n",
    "    def find(self, x, kdtree,depth=0):\n",
    "        root = kdtree\n",
    "        locate = kdtree\n",
    "        cloest = locate.value\n",
    "        side = None\n",
    "        while locate.data.shape[1] > 1:\n",
    "            if x[depth % x.shape[0]] < locate.median:\n",
    "                locate = locate.left\n",
    "                side = 'l'\n",
    "            else:\n",
    "                locate = locate.right\n",
    "                side = 'r'\n",
    "            depth+=1\n",
    "            while locate.data.shape[1] == 0:\n",
    "                locate = locate.parent\n",
    "                if side == 'r':\n",
    "                    locate = locate.left\n",
    "                else:\n",
    "                    locate = locate.right\n",
    "            if (np.array(locate.value - x)**2).sum() < (np.array(cloest - x)**2).sum() and locate.value.shape[1] != 0:\n",
    "                cloest = locate.value\n",
    "        cloest = locate.data\n",
    "        while(locate != root):\n",
    "            locate = locate.parent\n",
    "            depth-=1\n",
    "            if side == 'r':\n",
    "                other = self.find(x, locate.left,depth+1)\n",
    "            else:\n",
    "                other = self.find(x, locate.right,depth+1)\n",
    "\n",
    "            if (np.array(other - x)**2).sum() < (np.array(cloest - x)**2).sum() and other.shape[1] != 0:\n",
    "                cloest = other\n",
    "        return cloest"
   ]
  },
  {
   "cell_type": "code",
   "execution_count": 52,
   "metadata": {},
   "outputs": [],
   "source": [
    "clf=kdd_KNN()\n",
    "clf.fit(X_train,y_train)"
   ]
  },
  {
   "cell_type": "code",
   "execution_count": null,
   "metadata": {},
   "outputs": [
    {
     "name": "stdout",
     "output_type": "stream",
     "text": [
      "1\n"
     ]
    }
   ],
   "source": [
    "pre_y=clf.predict(X_test)\n",
    "print('done')"
   ]
  },
  {
   "cell_type": "code",
   "execution_count": null,
   "metadata": {},
   "outputs": [],
   "source": [
    "pre_y,y_test"
   ]
  },
  {
   "cell_type": "code",
   "execution_count": null,
   "metadata": {},
   "outputs": [],
   "source": []
  }
 ],
 "metadata": {
  "kernelspec": {
   "display_name": "Python 3",
   "language": "python",
   "name": "python3"
  },
  "language_info": {
   "codemirror_mode": {
    "name": "ipython",
    "version": 3
   },
   "file_extension": ".py",
   "mimetype": "text/x-python",
   "name": "python",
   "nbconvert_exporter": "python",
   "pygments_lexer": "ipython3",
   "version": "3.7.0"
  }
 },
 "nbformat": 4,
 "nbformat_minor": 2
}
