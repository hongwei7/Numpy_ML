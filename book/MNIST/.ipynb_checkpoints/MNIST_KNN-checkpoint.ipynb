{
 "cells": [
  {
   "cell_type": "code",
   "execution_count": 1,
   "metadata": {
    "scrolled": true
   },
   "outputs": [
    {
     "name": "stdout",
     "output_type": "stream",
     "text": [
      "(60000, 785)\n",
      "       label  1x1  1x2  1x3  1x4  1x5  1x6  1x7  1x8  1x9  ...    28x19  \\\n",
      "0          5    0    0    0    0    0    0    0    0    0  ...        0   \n",
      "1          0    0    0    0    0    0    0    0    0    0  ...        0   \n",
      "2          4    0    0    0    0    0    0    0    0    0  ...        0   \n",
      "3          1    0    0    0    0    0    0    0    0    0  ...        0   \n",
      "4          9    0    0    0    0    0    0    0    0    0  ...        0   \n",
      "5          2    0    0    0    0    0    0    0    0    0  ...        0   \n",
      "6          1    0    0    0    0    0    0    0    0    0  ...        0   \n",
      "7          3    0    0    0    0    0    0    0    0    0  ...        0   \n",
      "8          1    0    0    0    0    0    0    0    0    0  ...        0   \n",
      "9          4    0    0    0    0    0    0    0    0    0  ...        0   \n",
      "10         3    0    0    0    0    0    0    0    0    0  ...        0   \n",
      "11         5    0    0    0    0    0    0    0    0    0  ...        0   \n",
      "12         3    0    0    0    0    0    0    0    0    0  ...        0   \n",
      "13         6    0    0    0    0    0    0    0    0    0  ...        0   \n",
      "14         1    0    0    0    0    0    0    0    0    0  ...        0   \n",
      "15         7    0    0    0    0    0    0    0    0    0  ...        0   \n",
      "16         2    0    0    0    0    0    0    0    0    0  ...        0   \n",
      "17         8    0    0    0    0    0    0    0    0    0  ...        0   \n",
      "18         6    0    0    0    0    0    0    0    0    0  ...        0   \n",
      "19         9    0    0    0    0    0    0    0    0    0  ...        0   \n",
      "20         4    0    0    0    0    0    0    0    0    0  ...        0   \n",
      "21         0    0    0    0    0    0    0    0    0    0  ...        0   \n",
      "22         9    0    0    0    0    0    0    0    0    0  ...        0   \n",
      "23         1    0    0    0    0    0    0    0    0    0  ...        0   \n",
      "24         1    0    0    0    0    0    0    0    0    0  ...        0   \n",
      "25         2    0    0    0    0    0    0    0    0    0  ...        0   \n",
      "26         4    0    0    0    0    0    0    0    0    0  ...        0   \n",
      "27         3    0    0    0    0    0    0    0    0    0  ...        0   \n",
      "28         2    0    0    0    0    0    0    0    0    0  ...        0   \n",
      "29         7    0    0    0    0    0    0    0    0    0  ...        0   \n",
      "...      ...  ...  ...  ...  ...  ...  ...  ...  ...  ...  ...      ...   \n",
      "59970      2    0    0    0    0    0    0    0    0    0  ...        0   \n",
      "59971      2    0    0    0    0    0    0    0    0    0  ...        0   \n",
      "59972      0    0    0    0    0    0    0    0    0    0  ...        0   \n",
      "59973      9    0    0    0    0    0    0    0    0    0  ...        0   \n",
      "59974      2    0    0    0    0    0    0    0    0    0  ...        0   \n",
      "59975      4    0    0    0    0    0    0    0    0    0  ...        0   \n",
      "59976      6    0    0    0    0    0    0    0    0    0  ...        0   \n",
      "59977      7    0    0    0    0    0    0    0    0    0  ...        0   \n",
      "59978      3    0    0    0    0    0    0    0    0    0  ...        0   \n",
      "59979      1    0    0    0    0    0    0    0    0    0  ...        0   \n",
      "59980      3    0    0    0    0    0    0    0    0    0  ...        0   \n",
      "59981      6    0    0    0    0    0    0    0    0    0  ...        0   \n",
      "59982      6    0    0    0    0    0    0    0    0    0  ...        0   \n",
      "59983      2    0    0    0    0    0    0    0    0    0  ...        0   \n",
      "59984      1    0    0    0    0    0    0    0    0    0  ...        0   \n",
      "59985      2    0    0    0    0    0    0    0    0    0  ...        0   \n",
      "59986      6    0    0    0    0    0    0    0    0    0  ...        0   \n",
      "59987      0    0    0    0    0    0    0    0    0    0  ...        0   \n",
      "59988      7    0    0    0    0    0    0    0    0    0  ...        0   \n",
      "59989      8    0    0    0    0    0    0    0    0    0  ...        0   \n",
      "59990      9    0    0    0    0    0    0    0    0    0  ...        0   \n",
      "59991      2    0    0    0    0    0    0    0    0    0  ...        0   \n",
      "59992      9    0    0    0    0    0    0    0    0    0  ...        0   \n",
      "59993      5    0    0    0    0    0    0    0    0    0  ...        0   \n",
      "59994      1    0    0    0    0    0    0    0    0    0  ...        0   \n",
      "59995      8    0    0    0    0    0    0    0    0    0  ...        0   \n",
      "59996      3    0    0    0    0    0    0    0    0    0  ...        0   \n",
      "59997      5    0    0    0    0    0    0    0    0    0  ...        0   \n",
      "59998      6    0    0    0    0    0    0    0    0    0  ...        0   \n",
      "59999      8    0    0    0    0    0    0    0    0    0  ...        0   \n",
      "\n",
      "       28x20  28x21  28x22  28x23  28x24  28x25  28x26  28x27  28x28  \n",
      "0          0      0      0      0      0      0      0      0      0  \n",
      "1          0      0      0      0      0      0      0      0      0  \n",
      "2          0      0      0      0      0      0      0      0      0  \n",
      "3          0      0      0      0      0      0      0      0      0  \n",
      "4          0      0      0      0      0      0      0      0      0  \n",
      "5          0      0      0      0      0      0      0      0      0  \n",
      "6          0      0      0      0      0      0      0      0      0  \n",
      "7          0      0      0      0      0      0      0      0      0  \n",
      "8          0      0      0      0      0      0      0      0      0  \n",
      "9          0      0      0      0      0      0      0      0      0  \n",
      "10         0      0      0      0      0      0      0      0      0  \n",
      "11         0      0      0      0      0      0      0      0      0  \n",
      "12         0      0      0      0      0      0      0      0      0  \n",
      "13         0      0      0      0      0      0      0      0      0  \n",
      "14         0      0      0      0      0      0      0      0      0  \n",
      "15         0      0      0      0      0      0      0      0      0  \n",
      "16         0      0      0      0      0      0      0      0      0  \n",
      "17         0      0      0      0      0      0      0      0      0  \n",
      "18         0      0      0      0      0      0      0      0      0  \n",
      "19         0      0      0      0      0      0      0      0      0  \n",
      "20         0      0      0      0      0      0      0      0      0  \n",
      "21         0      0      0      0      0      0      0      0      0  \n",
      "22         0      0      0      0      0      0      0      0      0  \n",
      "23         0      0      0      0      0      0      0      0      0  \n",
      "24         0      0      0      0      0      0      0      0      0  \n",
      "25         0      0      0      0      0      0      0      0      0  \n",
      "26         0      0      0      0      0      0      0      0      0  \n",
      "27         0      0      0      0      0      0      0      0      0  \n",
      "28         0      0      0      0      0      0      0      0      0  \n",
      "29         0      0      0      0      0      0      0      0      0  \n",
      "...      ...    ...    ...    ...    ...    ...    ...    ...    ...  \n",
      "59970      0      0      0      0      0      0      0      0      0  \n",
      "59971      0      0      0      0      0      0      0      0      0  \n",
      "59972      0      0      0      0      0      0      0      0      0  \n",
      "59973      0      0      0      0      0      0      0      0      0  \n",
      "59974      0      0      0      0      0      0      0      0      0  \n",
      "59975      0      0      0      0      0      0      0      0      0  \n",
      "59976      0      0      0      0      0      0      0      0      0  \n",
      "59977      0      0      0      0      0      0      0      0      0  \n",
      "59978      0      0      0      0      0      0      0      0      0  \n",
      "59979      0      0      0      0      0      0      0      0      0  \n",
      "59980      0      0      0      0      0      0      0      0      0  \n",
      "59981      0      0      0      0      0      0      0      0      0  \n",
      "59982      0      0      0      0      0      0      0      0      0  \n",
      "59983      0      0      0      0      0      0      0      0      0  \n",
      "59984      0      0      0      0      0      0      0      0      0  \n",
      "59985      0      0      0      0      0      0      0      0      0  \n",
      "59986      0      0      0      0      0      0      0      0      0  \n",
      "59987      0      0      0      0      0      0      0      0      0  \n",
      "59988      0      0      0      0      0      0      0      0      0  \n",
      "59989      0      0      0      0      0      0      0      0      0  \n",
      "59990      0      0      0      0      0      0      0      0      0  \n",
      "59991      0      0      0      0      0      0      0      0      0  \n",
      "59992      0      0      0      0      0      0      0      0      0  \n",
      "59993      0      0      0      0      0      0      0      0      0  \n",
      "59994      0      0      0      0      0      0      0      0      0  \n",
      "59995      0      0      0      0      0      0      0      0      0  \n",
      "59996      0      0      0      0      0      0      0      0      0  \n",
      "59997      0      0      0      0      0      0      0      0      0  \n",
      "59998      0      0      0      0      0      0      0      0      0  \n",
      "59999      0      0      0      0      0      0      0      0      0  \n",
      "\n",
      "[60000 rows x 785 columns]\n",
      "Index(['label', '1x1', '1x2', '1x3', '1x4', '1x5', '1x6', '1x7', '1x8', '1x9',\n",
      "       ...\n",
      "       '28x19', '28x20', '28x21', '28x22', '28x23', '28x24', '28x25', '28x26',\n",
      "       '28x27', '28x28'],\n",
      "      dtype='object', length=785)\n"
     ]
    },
    {
     "name": "stdout",
     "output_type": "stream",
     "text": [
      "done\n"
     ]
    }
   ],
   "source": [
    "import pandas as pd\n",
    "file=pd.read_csv('mnist_train.csv')\n",
    "print(file.shape)\n",
    "print(file)\n",
    "mnist=dict()\n",
    "print(file.columns)\n",
    "mnist['data']=file\n",
    "mnist['target']=file['label']\n",
    "del mnist['data']['label']\n",
    "mnist['data']=mnist['data'].values\n",
    "mnist['target']=mnist['target'].values\n",
    "X,y=mnist['data'],mnist['target']\n",
    "X_train,y_train,X_test,y_test=X[:50000],y[:50000],X[50000:],y[50000:]\n",
    "import numpy as np\n",
    "shuffle_index=np.random.permutation(50000)\n",
    "X_train,y_train=X_train[shuffle_index],y_train[shuffle_index]\n",
    "print('done')"
   ]
  },
  {
   "cell_type": "code",
   "execution_count": 2,
   "metadata": {},
   "outputs": [
    {
     "data": {
      "text/plain": [
       "(50000, 784)"
      ]
     },
     "execution_count": 2,
     "metadata": {},
     "output_type": "execute_result"
    }
   ],
   "source": [
    "from sklearn.neighbors import KNeighborsClassifier as kn\n",
    "\n",
    "knn_clf=kn()\n",
    "X_train=X_train\n",
    "y_train=y_train\n",
    "X_train.shape"
   ]
  },
  {
   "cell_type": "code",
   "execution_count": 3,
   "metadata": {},
   "outputs": [
    {
     "name": "stdout",
     "output_type": "stream",
     "text": [
      "start!\n",
      "17.988030195236206 seconds\n"
     ]
    }
   ],
   "source": [
    "from sklearn.model_selection import GridSearchCV as grid\n",
    "param=[{'weights':['distance'],'n_neighbors':[6],'p':[4]}]\n",
    "kn_clf=kn(weights='distance',n_neighbors=6,p=4)\n",
    "grid_clf=kn_clf\n",
    "print('start!')\n",
    "import time\n",
    "t1=time.time()\n",
    "grid_clf.fit(X_train,y_train)\n",
    "t2=time.time()\n",
    "print(t2-t1,'seconds')"
   ]
  },
  {
   "cell_type": "code",
   "execution_count": null,
   "metadata": {
    "scrolled": false
   },
   "outputs": [],
   "source": [
    "from sklearn.metrics import confusion_matrix\n",
    "from sklearn.model_selection import cross_val_predict\n",
    "y_pred=cross_val_predict(grid_clf,X_train,y_train,cv=3)\n",
    "cm=confusion_matrix(y_train,y_pred)\n",
    "import matplotlib.pyplot as plt\n",
    "%matplotlib inline\n",
    "print(cm)\n",
    "plt.imshow(cm,cmap=plt.cm.gray)"
   ]
  },
  {
   "cell_type": "code",
   "execution_count": null,
   "metadata": {},
   "outputs": [],
   "source": [
    "\n",
    "from sklearn.model_selection import cross_val_score \n",
    "print(cross_val_score(knn_clf,X_train,y_train,cv=3))\n",
    "print(cross_val_score(grid_clf,X_train,y_train,cv=3))\n"
   ]
  },
  {
   "cell_type": "code",
   "execution_count": null,
   "metadata": {},
   "outputs": [],
   "source": [
    "y_test[5],y_test[6]"
   ]
  },
  {
   "cell_type": "code",
   "execution_count": null,
   "metadata": {},
   "outputs": [],
   "source": [
    "plt.imshow(X_test[5].reshape(28,28))\n",
    "plt.show()\n",
    "plt.imshow(X_test[6].reshape(28,28))\n",
    "plt.show()"
   ]
  },
  {
   "cell_type": "code",
   "execution_count": null,
   "metadata": {
    "scrolled": false
   },
   "outputs": [],
   "source": [
    "y_test_pred=grid_clf.predict(X_test)\n",
    "cm_test=confusion_matrix(y_test,y_test_pred)\n",
    "new_cm=(cm_test/cm_test.sum(axis=1,keepdims=True))\n",
    "np.fill_diagonal(new_cm,0)\n",
    "plt.imshow(cm_test,cmap=plt.cm.gray)\n",
    "plt.show()\n",
    "plt.imshow(new_cm,cmap=plt.cm.gray)\n",
    "plt.show()\n",
    "cm_test"
   ]
  },
  {
   "cell_type": "code",
   "execution_count": null,
   "metadata": {},
   "outputs": [],
   "source": [
    "sum(y_test_pred==y_test)/len(y_test)"
   ]
  },
  {
   "cell_type": "code",
   "execution_count": null,
   "metadata": {},
   "outputs": [],
   "source": []
  }
 ],
 "metadata": {
  "kernelspec": {
   "display_name": "Python 3",
   "language": "python",
   "name": "python3"
  },
  "language_info": {
   "codemirror_mode": {
    "name": "ipython",
    "version": 3
   },
   "file_extension": ".py",
   "mimetype": "text/x-python",
   "name": "python",
   "nbconvert_exporter": "python",
   "pygments_lexer": "ipython3",
   "version": "3.7.0"
  }
 },
 "nbformat": 4,
 "nbformat_minor": 2
}
