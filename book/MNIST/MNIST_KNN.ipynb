{
 "cells": [
  {
   "cell_type": "code",
   "execution_count": 1,
   "metadata": {
    "scrolled": true
   },
   "outputs": [
    {
     "name": "stdout",
     "output_type": "stream",
     "text": [
      "(60000, 785)\n",
      "       label  1x1  1x2  1x3  1x4  1x5  1x6  1x7  1x8  1x9  ...    28x19  \\\n",
      "0          5    0    0    0    0    0    0    0    0    0  ...        0   \n",
      "1          0    0    0    0    0    0    0    0    0    0  ...        0   \n",
      "2          4    0    0    0    0    0    0    0    0    0  ...        0   \n",
      "3          1    0    0    0    0    0    0    0    0    0  ...        0   \n",
      "4          9    0    0    0    0    0    0    0    0    0  ...        0   \n",
      "5          2    0    0    0    0    0    0    0    0    0  ...        0   \n",
      "6          1    0    0    0    0    0    0    0    0    0  ...        0   \n",
      "7          3    0    0    0    0    0    0    0    0    0  ...        0   \n",
      "8          1    0    0    0    0    0    0    0    0    0  ...        0   \n",
      "9          4    0    0    0    0    0    0    0    0    0  ...        0   \n",
      "10         3    0    0    0    0    0    0    0    0    0  ...        0   \n",
      "11         5    0    0    0    0    0    0    0    0    0  ...        0   \n",
      "12         3    0    0    0    0    0    0    0    0    0  ...        0   \n",
      "13         6    0    0    0    0    0    0    0    0    0  ...        0   \n",
      "14         1    0    0    0    0    0    0    0    0    0  ...        0   \n",
      "15         7    0    0    0    0    0    0    0    0    0  ...        0   \n",
      "16         2    0    0    0    0    0    0    0    0    0  ...        0   \n",
      "17         8    0    0    0    0    0    0    0    0    0  ...        0   \n",
      "18         6    0    0    0    0    0    0    0    0    0  ...        0   \n",
      "19         9    0    0    0    0    0    0    0    0    0  ...        0   \n",
      "20         4    0    0    0    0    0    0    0    0    0  ...        0   \n",
      "21         0    0    0    0    0    0    0    0    0    0  ...        0   \n",
      "22         9    0    0    0    0    0    0    0    0    0  ...        0   \n",
      "23         1    0    0    0    0    0    0    0    0    0  ...        0   \n",
      "24         1    0    0    0    0    0    0    0    0    0  ...        0   \n",
      "25         2    0    0    0    0    0    0    0    0    0  ...        0   \n",
      "26         4    0    0    0    0    0    0    0    0    0  ...        0   \n",
      "27         3    0    0    0    0    0    0    0    0    0  ...        0   \n",
      "28         2    0    0    0    0    0    0    0    0    0  ...        0   \n",
      "29         7    0    0    0    0    0    0    0    0    0  ...        0   \n",
      "...      ...  ...  ...  ...  ...  ...  ...  ...  ...  ...  ...      ...   \n",
      "59970      2    0    0    0    0    0    0    0    0    0  ...        0   \n",
      "59971      2    0    0    0    0    0    0    0    0    0  ...        0   \n",
      "59972      0    0    0    0    0    0    0    0    0    0  ...        0   \n",
      "59973      9    0    0    0    0    0    0    0    0    0  ...        0   \n",
      "59974      2    0    0    0    0    0    0    0    0    0  ...        0   \n",
      "59975      4    0    0    0    0    0    0    0    0    0  ...        0   \n",
      "59976      6    0    0    0    0    0    0    0    0    0  ...        0   \n",
      "59977      7    0    0    0    0    0    0    0    0    0  ...        0   \n",
      "59978      3    0    0    0    0    0    0    0    0    0  ...        0   \n",
      "59979      1    0    0    0    0    0    0    0    0    0  ...        0   \n",
      "59980      3    0    0    0    0    0    0    0    0    0  ...        0   \n",
      "59981      6    0    0    0    0    0    0    0    0    0  ...        0   \n",
      "59982      6    0    0    0    0    0    0    0    0    0  ...        0   \n",
      "59983      2    0    0    0    0    0    0    0    0    0  ...        0   \n",
      "59984      1    0    0    0    0    0    0    0    0    0  ...        0   \n",
      "59985      2    0    0    0    0    0    0    0    0    0  ...        0   \n",
      "59986      6    0    0    0    0    0    0    0    0    0  ...        0   \n",
      "59987      0    0    0    0    0    0    0    0    0    0  ...        0   \n",
      "59988      7    0    0    0    0    0    0    0    0    0  ...        0   \n",
      "59989      8    0    0    0    0    0    0    0    0    0  ...        0   \n",
      "59990      9    0    0    0    0    0    0    0    0    0  ...        0   \n",
      "59991      2    0    0    0    0    0    0    0    0    0  ...        0   \n",
      "59992      9    0    0    0    0    0    0    0    0    0  ...        0   \n",
      "59993      5    0    0    0    0    0    0    0    0    0  ...        0   \n",
      "59994      1    0    0    0    0    0    0    0    0    0  ...        0   \n",
      "59995      8    0    0    0    0    0    0    0    0    0  ...        0   \n",
      "59996      3    0    0    0    0    0    0    0    0    0  ...        0   \n",
      "59997      5    0    0    0    0    0    0    0    0    0  ...        0   \n",
      "59998      6    0    0    0    0    0    0    0    0    0  ...        0   \n",
      "59999      8    0    0    0    0    0    0    0    0    0  ...        0   \n",
      "\n",
      "       28x20  28x21  28x22  28x23  28x24  28x25  28x26  28x27  28x28  \n",
      "0          0      0      0      0      0      0      0      0      0  \n",
      "1          0      0      0      0      0      0      0      0      0  \n",
      "2          0      0      0      0      0      0      0      0      0  \n",
      "3          0      0      0      0      0      0      0      0      0  \n",
      "4          0      0      0      0      0      0      0      0      0  \n",
      "5          0      0      0      0      0      0      0      0      0  \n",
      "6          0      0      0      0      0      0      0      0      0  \n",
      "7          0      0      0      0      0      0      0      0      0  \n",
      "8          0      0      0      0      0      0      0      0      0  \n",
      "9          0      0      0      0      0      0      0      0      0  \n",
      "10         0      0      0      0      0      0      0      0      0  \n",
      "11         0      0      0      0      0      0      0      0      0  \n",
      "12         0      0      0      0      0      0      0      0      0  \n",
      "13         0      0      0      0      0      0      0      0      0  \n",
      "14         0      0      0      0      0      0      0      0      0  \n",
      "15         0      0      0      0      0      0      0      0      0  \n",
      "16         0      0      0      0      0      0      0      0      0  \n",
      "17         0      0      0      0      0      0      0      0      0  \n",
      "18         0      0      0      0      0      0      0      0      0  \n",
      "19         0      0      0      0      0      0      0      0      0  \n",
      "20         0      0      0      0      0      0      0      0      0  \n",
      "21         0      0      0      0      0      0      0      0      0  \n",
      "22         0      0      0      0      0      0      0      0      0  \n",
      "23         0      0      0      0      0      0      0      0      0  \n",
      "24         0      0      0      0      0      0      0      0      0  \n",
      "25         0      0      0      0      0      0      0      0      0  \n",
      "26         0      0      0      0      0      0      0      0      0  \n",
      "27         0      0      0      0      0      0      0      0      0  \n",
      "28         0      0      0      0      0      0      0      0      0  \n",
      "29         0      0      0      0      0      0      0      0      0  \n",
      "...      ...    ...    ...    ...    ...    ...    ...    ...    ...  \n",
      "59970      0      0      0      0      0      0      0      0      0  \n",
      "59971      0      0      0      0      0      0      0      0      0  \n",
      "59972      0      0      0      0      0      0      0      0      0  \n",
      "59973      0      0      0      0      0      0      0      0      0  \n",
      "59974      0      0      0      0      0      0      0      0      0  \n",
      "59975      0      0      0      0      0      0      0      0      0  \n",
      "59976      0      0      0      0      0      0      0      0      0  \n",
      "59977      0      0      0      0      0      0      0      0      0  \n",
      "59978      0      0      0      0      0      0      0      0      0  \n",
      "59979      0      0      0      0      0      0      0      0      0  \n",
      "59980      0      0      0      0      0      0      0      0      0  \n",
      "59981      0      0      0      0      0      0      0      0      0  \n",
      "59982      0      0      0      0      0      0      0      0      0  \n",
      "59983      0      0      0      0      0      0      0      0      0  \n",
      "59984      0      0      0      0      0      0      0      0      0  \n",
      "59985      0      0      0      0      0      0      0      0      0  \n",
      "59986      0      0      0      0      0      0      0      0      0  \n",
      "59987      0      0      0      0      0      0      0      0      0  \n",
      "59988      0      0      0      0      0      0      0      0      0  \n",
      "59989      0      0      0      0      0      0      0      0      0  \n",
      "59990      0      0      0      0      0      0      0      0      0  \n",
      "59991      0      0      0      0      0      0      0      0      0  \n",
      "59992      0      0      0      0      0      0      0      0      0  \n",
      "59993      0      0      0      0      0      0      0      0      0  \n",
      "59994      0      0      0      0      0      0      0      0      0  \n",
      "59995      0      0      0      0      0      0      0      0      0  \n",
      "59996      0      0      0      0      0      0      0      0      0  \n",
      "59997      0      0      0      0      0      0      0      0      0  \n",
      "59998      0      0      0      0      0      0      0      0      0  \n",
      "59999      0      0      0      0      0      0      0      0      0  \n",
      "\n",
      "[60000 rows x 785 columns]\n",
      "Index(['label', '1x1', '1x2', '1x3', '1x4', '1x5', '1x6', '1x7', '1x8', '1x9',\n",
      "       ...\n",
      "       '28x19', '28x20', '28x21', '28x22', '28x23', '28x24', '28x25', '28x26',\n",
      "       '28x27', '28x28'],\n",
      "      dtype='object', length=785)\n"
     ]
    },
    {
     "name": "stdout",
     "output_type": "stream",
     "text": [
      "done\n"
     ]
    }
   ],
   "source": [
    "import pandas as pd\n",
    "file=pd.read_csv('mnist_train.csv')\n",
    "print(file.shape)\n",
    "print(file)\n",
    "mnist=dict()\n",
    "print(file.columns)\n",
    "mnist['data']=file\n",
    "mnist['target']=file['label']\n",
    "del mnist['data']['label']\n",
    "mnist['data']=mnist['data'].values\n",
    "mnist['target']=mnist['target'].values\n",
    "X,y=mnist['data'],mnist['target']\n",
    "X_train,y_train,X_test,y_test=X[:50000],y[:50000],X[100:],y[100:]\n",
    "import numpy as np\n",
    "shuffle_index=np.random.permutation(50000)\n",
    "X_train,y_train=X_train[shuffle_index],y_train[shuffle_index]\n",
    "print('done')"
   ]
  },
  {
   "cell_type": "code",
   "execution_count": 2,
   "metadata": {},
   "outputs": [
    {
     "data": {
      "text/plain": [
       "(1000, 784)"
      ]
     },
     "execution_count": 2,
     "metadata": {},
     "output_type": "execute_result"
    }
   ],
   "source": [
    "from sklearn.neighbors import KNeighborsClassifier as kn\n",
    "\n",
    "knn_clf=kn()\n",
    "X_train=X_train[:1000]\n",
    "y_train=y_train[:1000]\n",
    "X_train.shape"
   ]
  },
  {
   "cell_type": "code",
   "execution_count": 12,
   "metadata": {},
   "outputs": [
    {
     "name": "stdout",
     "output_type": "stream",
     "text": [
      "start!\n",
      "0.01715087890625 seconds\n"
     ]
    }
   ],
   "source": [
    "from sklearn.model_selection import GridSearchCV as grid\n",
    "param=[{'weights':['distance'],'n_neighbors':[6],'p':[4]}]\n",
    "kn_clf=kn(weights='distance',n_neighbors=6,p=4)\n",
    "grid_clf=kn_clf\n",
    "print('start!')\n",
    "import time\n",
    "t1=time.time()\n",
    "grid_clf.fit(X_train,y_train)\n",
    "t2=time.time()\n",
    "print(t2-t1,'seconds')"
   ]
  },
  {
   "cell_type": "code",
   "execution_count": 13,
   "metadata": {
    "scrolled": false
   },
   "outputs": [
    {
     "name": "stdout",
     "output_type": "stream",
     "text": [
      "[[ 88   1   0   0   1   0   4   0   1   0]\n",
      " [  0 123   0   0   0   0   1   0   0   0]\n",
      " [  3   4  84   2   1   0   2   5   1   2]\n",
      " [  0   2   0  71   0   2   1   1   6   6]\n",
      " [  0   1   0   0  76   1   3   2   0  16]\n",
      " [  2   3   0   4   1  59   2   0   2   4]\n",
      " [  0   1   0   0   1   0 102   0   0   0]\n",
      " [  0   9   0   0   2   0   0  82   0   7]\n",
      " [  2   4   0   4   2   1   1   2  78   3]\n",
      " [  2   1   1   2   6   0   0   8   0  91]]\n"
     ]
    },
    {
     "data": {
      "text/plain": [
       "<matplotlib.image.AxesImage at 0x113e90e10>"
      ]
     },
     "execution_count": 13,
     "metadata": {},
     "output_type": "execute_result"
    },
    {
     "data": {
      "image/png": "[encoded data removed]",
      "text/plain": [
       "<Figure size 432x288 with 1 Axes>"
      ]
     },
     "metadata": {
      "needs_background": "light"
     },
     "output_type": "display_data"
    }
   ],
   "source": [
    "from sklearn.metrics import confusion_matrix\n",
    "from sklearn.model_selection import cross_val_predict\n",
    "y_pred=cross_val_predict(grid_clf,X_train,y_train,cv=3)\n",
    "cm=confusion_matrix(y_train,y_pred)\n",
    "import matplotlib.pyplot as plt\n",
    "%matplotlib inline\n",
    "print(cm)\n",
    "plt.imshow(cm,cmap=plt.cm.gray)"
   ]
  },
  {
   "cell_type": "code",
   "execution_count": null,
   "metadata": {},
   "outputs": [
    {
     "name": "stdout",
     "output_type": "stream",
     "text": [
      "[0.82492582 0.84730539 0.85410334]\n",
      "[0.83976261 0.85928144 0.86322188]\n"
     ]
    }
   ],
   "source": [
    "\n",
    "from sklearn.model_selection import cross_val_score \n",
    "print(cross_val_score(knn_clf,X_train,y_train,cv=3))\n",
    "print(cross_val_score(grid_clf,X_train,y_train,cv=3))\n"
   ]
  },
  {
   "cell_type": "code",
   "execution_count": null,
   "metadata": {},
   "outputs": [
    {
     "data": {
      "text/plain": [
       "(1, 6)"
      ]
     },
     "execution_count": 15,
     "metadata": {},
     "output_type": "execute_result"
    }
   ],
   "source": [
    "y_test[5],y_test[6]"
   ]
  },
  {
   "cell_type": "code",
   "execution_count": null,
   "metadata": {},
   "outputs": [
    {
     "data": {
      "image/png": "[encoded data removed]",
      "text/plain": [
       "<Figure size 432x288 with 1 Axes>"
      ]
     },
     "metadata": {
      "needs_background": "light"
     },
     "output_type": "display_data"
    },
    {
     "data": {
      "image/png": "[encoded data removed]",
      "text/plain": [
       "<Figure size 432x288 with 1 Axes>"
      ]
     },
     "metadata": {
      "needs_background": "light"
     },
     "output_type": "display_data"
    }
   ],
   "source": [
    "plt.imshow(X_test[5].reshape(28,28))\n",
    "plt.show()\n",
    "plt.imshow(X_test[6].reshape(28,28))\n",
    "plt.show()"
   ]
  },
  {
   "cell_type": "code",
   "execution_count": null,
   "metadata": {
    "scrolled": false
   },
   "outputs": [],
   "source": [
    "y_test_pred=grid_clf.predict(X_test)\n",
    "cm_test=confusion_matrix(y_test,y_test_pred)\n",
    "new_cm=(cm_test/cm_test.sum(axis=1,keepdims=True))\n",
    "np.fill_diagonal(new_cm,0)\n",
    "plt.imshow(cm_test,cmap=plt.cm.gray)\n",
    "plt.show()\n",
    "plt.imshow(new_cm,cmap=plt.cm.gray)\n",
    "plt.show()\n",
    "cm_test"
   ]
  },
  {
   "cell_type": "code",
   "execution_count": null,
   "metadata": {},
   "outputs": [],
   "source": [
    "sum(y_test_pred==y_test)/len(y_test)"
   ]
  },
  {
   "cell_type": "code",
   "execution_count": 3,
   "metadata": {},
   "outputs": [
    {
     "data": {
      "text/plain": [
       "(array([[0, 0, 0, ..., 0, 0, 0],\n",
       "        [0, 0, 0, ..., 0, 0, 0],\n",
       "        [0, 0, 0, ..., 0, 0, 0],\n",
       "        ...,\n",
       "        [0, 0, 0, ..., 0, 0, 0],\n",
       "        [0, 0, 0, ..., 0, 0, 0],\n",
       "        [0, 0, 0, ..., 0, 0, 0]]),\n",
       " array([4, 1, 9, 3, 9, 9, 6, 7, 0, 7, 4, 4, 3, 1, 5, 3, 3, 7, 5, 8, 5, 8,\n",
       "        7, 8, 3, 2, 8, 3, 1, 3, 0, 7, 8, 5, 7, 2, 8, 1, 9, 9, 7, 5, 3, 8,\n",
       "        1, 6, 8, 6, 8, 0, 4, 7, 3, 6, 9, 9, 7, 3, 8, 9, 5, 4, 7, 3, 9, 3,\n",
       "        2, 2, 3, 4, 8, 6, 3, 8, 9, 0, 2, 9, 0, 5, 8, 7, 9, 1, 9, 8, 4, 7,\n",
       "        6, 8, 5, 1, 1, 4, 0, 6, 9, 5, 9, 6, 3, 7, 7, 6, 4, 3, 3, 0, 0, 7,\n",
       "        3, 7, 1, 7, 9, 3, 3, 3, 1, 5, 9, 0, 1, 3, 0, 1, 4, 9, 2, 6, 1, 7,\n",
       "        7, 1, 1, 1, 9, 1, 0, 5, 6, 8, 1, 1, 5, 3, 8, 3, 7, 1, 7, 5, 4, 2,\n",
       "        5, 1, 3, 1, 2, 1, 9, 1, 2, 9, 2, 8, 2, 1, 8, 2, 4, 4, 9, 5, 7, 9,\n",
       "        7, 1, 2, 4, 7, 6, 4, 4, 4, 7, 0, 5, 2, 3, 4, 3, 3, 0, 4, 7, 7, 5,\n",
       "        3, 2, 7, 5, 7, 9, 0, 5, 4, 0, 8, 1, 0, 0, 5, 0, 5, 4, 9, 8, 5, 8,\n",
       "        7, 6, 3, 0, 6, 7, 3, 7, 6, 8, 2, 1, 1, 2, 5, 4, 2, 5, 6, 5, 4, 0,\n",
       "        5, 3, 9, 9, 7, 7, 0, 3, 4, 6, 4, 5, 5, 6, 8, 5, 2, 7, 1, 4, 3, 8,\n",
       "        7, 4, 8, 1, 6, 5, 1, 1, 9, 3, 0, 0, 9, 5, 4, 8, 5, 9, 5, 6, 3, 4,\n",
       "        8, 0, 5, 2, 7, 9, 9, 5, 1, 6, 3, 1, 9, 2, 6, 0, 6, 1, 1, 1, 5, 1,\n",
       "        9, 1, 5, 1, 6, 9, 7, 2, 4, 1, 7, 7, 5, 8, 5, 2, 3, 9, 7, 5, 0, 4,\n",
       "        0, 7, 4, 0, 1, 8, 1, 2, 5, 2, 3, 9, 1, 6, 9, 6, 0, 4, 2, 1, 9, 1,\n",
       "        4, 7, 8, 8, 9, 7, 6, 8, 1, 1, 2, 4, 3, 6, 0, 1, 1, 5, 3, 6, 2, 2,\n",
       "        2, 1, 4, 8, 0, 9, 3, 3, 5, 7, 6, 7, 0, 3, 1, 3, 4, 6, 4, 6, 2, 7,\n",
       "        0, 7, 3, 3, 6, 5, 2, 4, 0, 7, 8, 2, 7, 1, 8, 6, 4, 9, 8, 9, 3, 9,\n",
       "        1, 3, 4, 9, 0, 7, 5, 3, 2, 7, 7, 6, 4, 9, 1, 6, 7, 5, 7, 8, 5, 7,\n",
       "        6, 6, 3, 6, 7, 6, 8, 3, 2, 2, 5, 1, 6, 1, 2, 1, 1, 3, 6, 2, 1, 9,\n",
       "        9, 8, 6, 4, 0, 7, 9, 0, 2, 0, 4, 6, 4, 6, 9, 2, 6, 6, 4, 4, 1, 0,\n",
       "        2, 2, 2, 3, 3, 0, 8, 3, 0, 5, 3, 9, 2, 0, 9, 6, 3, 2, 1, 9, 2, 8,\n",
       "        3, 4, 9, 4, 6, 4, 3, 0, 3, 7, 7, 7, 2, 3, 1, 9, 0, 3, 7, 7, 7, 7,\n",
       "        5, 4, 7, 5, 8, 5, 4, 6, 5, 5, 6, 5, 4, 3, 1, 3, 9, 6, 6, 5, 9, 5,\n",
       "        9, 3, 2, 7, 0, 4, 7, 0, 2, 8, 9, 0, 2, 4, 2, 2, 3, 7, 1, 2, 6, 1,\n",
       "        1, 2, 3, 6, 0, 9, 4, 2, 5, 1, 9, 0, 3, 8, 1, 6, 4, 4, 4, 9, 9, 4,\n",
       "        2, 3, 1, 4, 7, 9, 5, 4, 2, 8, 9, 6, 7, 0, 2, 4, 7, 3, 1, 6, 4, 6,\n",
       "        0, 1, 7, 0, 5, 4, 2, 5, 1, 6, 3, 2, 8, 6, 1, 2, 4, 3, 2, 8, 2, 1,\n",
       "        5, 4, 5, 7, 7, 6, 2, 6, 1, 6, 6, 3, 5, 6, 1, 4, 8, 9, 2, 9, 1, 2,\n",
       "        4, 2, 1, 4, 4, 0, 8, 7, 5, 0, 2, 4, 5, 6, 9, 8, 2, 1, 1, 3, 3, 8,\n",
       "        1, 2, 5, 4, 5, 8, 0, 7, 2, 1, 8, 5, 3, 7, 8, 3, 9, 5, 2, 2, 1, 3,\n",
       "        4, 9, 0, 3, 8, 5, 9, 9, 7, 5, 6, 5, 8, 7, 9, 3, 6, 7, 4, 8, 0, 4,\n",
       "        4, 4, 2, 9, 7, 9, 4, 1, 5, 5, 6, 2, 5, 3, 4, 7, 9, 7, 1, 8, 4, 4,\n",
       "        5, 6, 6, 1, 8, 6, 0, 1, 6, 1, 0, 4, 0, 9, 2, 7, 6, 1, 7, 6, 7, 9,\n",
       "        7, 2, 9, 2, 4, 7, 6, 6, 1, 3, 4, 4, 9, 0, 1, 1, 1, 9, 9, 7, 6, 7,\n",
       "        8, 4, 5, 0, 5, 8, 7, 6, 5, 6, 2, 4, 1, 7, 1, 0, 3, 8, 7, 8, 6, 6,\n",
       "        0, 6, 9, 3, 8, 4, 8, 2, 1, 4, 4, 7, 8, 3, 0, 9, 0, 5, 3, 7, 7, 9,\n",
       "        2, 7, 0, 3, 5, 9, 2, 3, 8, 1, 5, 5, 4, 5, 2, 0, 7, 2, 8, 3, 2, 8,\n",
       "        2, 6, 9, 9, 5, 4, 1, 2, 9, 1, 6, 8, 6, 1, 5, 6, 1, 4, 0, 3, 3, 1,\n",
       "        0, 0, 6, 7, 9, 7, 6, 4, 7, 6, 4, 9, 2, 8, 1, 6, 4, 3, 2, 4, 3, 1,\n",
       "        4, 0, 1, 6, 9, 3, 3, 6, 2, 3, 8, 5, 3, 6, 1, 5, 6, 8, 6, 6, 1, 5,\n",
       "        7, 2, 3, 2, 6, 2, 4, 7, 7, 1, 2, 8, 3, 3, 7, 8, 2, 5, 1, 8, 3, 2,\n",
       "        5, 7, 4, 0, 6, 5, 2, 3, 0, 8, 6, 7, 8, 5, 9, 0, 6, 8, 1, 1, 5, 9,\n",
       "        0, 3, 9, 9, 3, 3, 4, 3, 2, 9, 5, 8, 7, 0, 7, 7, 1, 1, 7, 0, 6, 8,\n",
       "        8, 0, 2, 2, 5, 6, 3, 1, 0, 6]))"
      ]
     },
     "execution_count": 3,
     "metadata": {},
     "output_type": "execute_result"
    }
   ],
   "source": [
    "X_train,y_train"
   ]
  },
  {
   "cell_type": "code",
   "execution_count": 4,
   "metadata": {},
   "outputs": [
    {
     "data": {
      "text/plain": [
       "array([4, 1, 3, 3, 9, 9, 6, 7, 0, 7, 9, 4, 3, 1, 5, 3, 3, 7, 5, 8, 5, 8,\n",
       "       7, 4, 3, 2, 8, 3, 1, 3, 0, 7, 8, 5, 7, 2, 1, 1, 9, 9, 7, 5, 3, 0,\n",
       "       1, 4, 8, 6, 8, 0, 4, 7, 3, 6, 9, 9, 7, 3, 5, 9, 5, 4, 7, 3, 9, 7,\n",
       "       2, 2, 3, 9, 8, 6, 3, 5, 9, 0, 2, 9, 0, 5, 9, 7, 9, 1, 9, 8, 9, 7,\n",
       "       6, 8, 5, 1, 1, 4, 0, 6, 9, 5, 9, 6, 3, 7, 9, 6, 4, 3, 3, 0, 0, 7,\n",
       "       3, 7, 1, 7, 9, 3, 3, 3, 1, 3, 9, 0, 1, 3, 0, 1, 9, 7, 2, 6, 1, 7,\n",
       "       7, 1, 1, 1, 9, 1, 0, 5, 6, 8, 1, 1, 5, 3, 8, 3, 7, 1, 7, 5, 4, 2,\n",
       "       5, 1, 3, 1, 2, 1, 9, 1, 0, 9, 2, 9, 2, 1, 8, 2, 9, 4, 9, 5, 7, 9,\n",
       "       7, 1, 2, 4, 7, 6, 1, 4, 4, 7, 0, 5, 2, 3, 4, 3, 3, 0, 4, 7, 7, 5,\n",
       "       3, 2, 7, 5, 7, 9, 0, 5, 4, 0, 8, 1, 0, 0, 5, 0, 3, 4, 7, 8, 5, 1,\n",
       "       7, 6, 3, 0, 6, 7, 3, 7, 6, 8, 2, 1, 1, 2, 5, 4, 2, 5, 6, 5, 4, 0,\n",
       "       5, 3, 9, 9, 9, 7, 0, 3, 4, 6, 4, 5, 3, 6, 8, 5, 2, 7, 1, 4, 3, 8,\n",
       "       7, 4, 8, 1, 6, 5, 1, 1, 9, 3, 0, 0, 9, 3, 4, 8, 5, 9, 5, 6, 3, 4,\n",
       "       8, 0, 5, 2, 7, 9, 9, 5, 1, 6, 3, 1, 9, 2, 6, 0, 6, 1, 1, 1, 5, 1,\n",
       "       9, 1, 5, 1, 6, 9, 7, 2, 4, 1, 7, 7, 5, 8, 5, 2, 3, 9, 7, 5, 0, 4,\n",
       "       0, 7, 1, 0, 1, 8, 1, 2, 5, 1, 3, 7, 1, 6, 4, 6, 0, 4, 2, 1, 9, 1,\n",
       "       4, 7, 8, 8, 9, 7, 6, 8, 1, 1, 2, 4, 3, 6, 0, 1, 1, 5, 3, 6, 2, 2,\n",
       "       2, 1, 4, 8, 0, 9, 3, 3, 5, 7, 6, 7, 0, 3, 1, 3, 4, 6, 4, 6, 2, 7,\n",
       "       0, 7, 3, 3, 6, 0, 4, 4, 0, 7, 8, 2, 7, 1, 8, 6, 4, 9, 8, 9, 3, 9,\n",
       "       1, 3, 4, 9, 0, 7, 5, 3, 2, 7, 7, 6, 4, 9, 1, 6, 7, 5, 7, 8, 5, 7,\n",
       "       6, 6, 3, 6, 7, 6, 8, 3, 2, 2, 5, 1, 6, 1, 1, 1, 1, 3, 6, 8, 1, 9,\n",
       "       9, 8, 6, 4, 0, 7, 9, 0, 0, 0, 9, 2, 4, 6, 9, 2, 6, 6, 4, 4, 1, 0,\n",
       "       1, 2, 2, 3, 3, 0, 8, 7, 0, 5, 3, 9, 2, 0, 9, 6, 3, 2, 1, 9, 2, 3,\n",
       "       3, 4, 9, 4, 6, 4, 9, 0, 3, 4, 7, 7, 2, 3, 1, 9, 0, 3, 7, 7, 7, 7,\n",
       "       5, 4, 7, 5, 8, 5, 4, 6, 5, 5, 6, 5, 4, 3, 1, 3, 9, 6, 6, 5, 9, 5,\n",
       "       4, 7, 2, 7, 0, 4, 7, 0, 2, 3, 9, 0, 2, 4, 2, 2, 3, 7, 1, 2, 6, 1,\n",
       "       1, 2, 3, 6, 0, 9, 4, 2, 5, 1, 9, 0, 3, 8, 1, 6, 4, 4, 4, 9, 9, 4,\n",
       "       6, 3, 1, 4, 1, 9, 5, 9, 2, 8, 9, 6, 7, 0, 4, 4, 7, 3, 1, 6, 4, 6,\n",
       "       0, 1, 7, 0, 5, 9, 2, 3, 1, 6, 3, 2, 8, 6, 1, 2, 9, 3, 2, 5, 2, 1,\n",
       "       5, 4, 5, 7, 7, 6, 2, 6, 1, 6, 6, 3, 5, 6, 1, 4, 8, 9, 2, 9, 1, 2,\n",
       "       4, 2, 1, 4, 1, 0, 8, 7, 5, 0, 2, 4, 5, 6, 9, 8, 2, 1, 1, 3, 3, 1,\n",
       "       1, 2, 5, 4, 5, 8, 0, 7, 2, 1, 8, 5, 3, 7, 5, 3, 9, 5, 1, 2, 1, 3,\n",
       "       4, 9, 0, 3, 8, 5, 9, 9, 9, 5, 6, 1, 8, 7, 9, 3, 6, 7, 4, 8, 0, 4,\n",
       "       4, 4, 2, 5, 7, 9, 4, 1, 5, 5, 6, 1, 5, 3, 4, 7, 9, 7, 1, 8, 9, 4,\n",
       "       5, 6, 6, 1, 0, 6, 0, 1, 6, 1, 0, 9, 0, 9, 2, 7, 6, 1, 7, 6, 7, 4,\n",
       "       7, 2, 9, 2, 4, 7, 6, 6, 1, 3, 1, 4, 9, 0, 1, 1, 1, 9, 9, 7, 6, 7,\n",
       "       8, 4, 5, 0, 5, 8, 7, 6, 5, 6, 2, 4, 1, 7, 1, 0, 3, 8, 7, 8, 6, 6,\n",
       "       0, 6, 9, 3, 1, 4, 8, 2, 1, 4, 4, 7, 8, 3, 0, 9, 0, 5, 3, 7, 7, 9,\n",
       "       2, 7, 0, 3, 5, 9, 2, 3, 8, 1, 5, 5, 9, 5, 7, 0, 7, 2, 3, 3, 2, 8,\n",
       "       2, 6, 9, 9, 5, 4, 1, 2, 9, 1, 6, 8, 6, 1, 5, 6, 1, 4, 0, 3, 3, 1,\n",
       "       0, 0, 6, 7, 9, 7, 6, 4, 7, 6, 4, 9, 2, 8, 1, 6, 4, 3, 2, 4, 3, 1,\n",
       "       4, 0, 1, 6, 7, 5, 3, 6, 2, 3, 8, 5, 3, 6, 1, 5, 6, 8, 6, 6, 1, 5,\n",
       "       1, 0, 3, 2, 6, 2, 4, 7, 7, 1, 2, 8, 3, 3, 1, 8, 2, 5, 1, 8, 3, 2,\n",
       "       5, 7, 4, 0, 6, 5, 2, 3, 0, 8, 6, 7, 8, 0, 9, 0, 6, 8, 1, 1, 5, 9,\n",
       "       0, 3, 9, 9, 3, 3, 4, 3, 2, 9, 5, 8, 7, 0, 7, 7, 1, 1, 7, 0, 6, 6,\n",
       "       8, 0, 2, 7, 5, 6, 3, 1, 0, 6])"
      ]
     },
     "execution_count": 4,
     "metadata": {},
     "output_type": "execute_result"
    }
   ],
   "source": [
    "from sklearn.neighbors import KNeighborsClassifier\n",
    "clf=KNeighborsClassifier()\n",
    "clf.fit(X_train,y_train)\n",
    "clf.predict(X_train)==y_train.sum()"
   ]
  },
  {
   "cell_type": "code",
   "execution_count": null,
   "metadata": {},
   "outputs": [],
   "source": []
  }
 ],
 "metadata": {
  "kernelspec": {
   "display_name": "Python 3",
   "language": "python",
   "name": "python3"
  },
  "language_info": {
   "codemirror_mode": {
    "name": "ipython",
    "version": 3
   },
   "file_extension": ".py",
   "mimetype": "text/x-python",
   "name": "python",
   "nbconvert_exporter": "python",
   "pygments_lexer": "ipython3",
   "version": "3.7.0"
  }
 },
 "nbformat": 4,
 "nbformat_minor": 2
}
