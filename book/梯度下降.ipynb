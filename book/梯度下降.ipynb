{
 "cells": [
  {
   "cell_type": "code",
   "execution_count": 18,
   "metadata": {},
   "outputs": [
    {
     "data": {
      "image/png": "[encoded data removed]",
      "text/plain": [
       "<Figure size 432x288 with 1 Axes>"
      ]
     },
     "metadata": {
      "needs_background": "light"
     },
     "output_type": "display_data"
    },
    {
     "data": {
      "text/plain": [
       "array([[ 5.49500969],\n",
       "       [-2.97606655]])"
      ]
     },
     "execution_count": 18,
     "metadata": {},
     "output_type": "execute_result"
    }
   ],
   "source": [
    "import numpy as np#生成模拟直线数据\n",
    "%matplotlib inline\n",
    "old_X=2*np.random.rand(100,1)\n",
    "Y=-3*old_X+5+np.random.rand(100,1)\n",
    "from matplotlib import pyplot as plt\n",
    "plt.plot(old_X,Y,'.')\n",
    "plt.show()\n",
    "X=np.c_[np.ones((100,1)),old_X]\n",
    "best=np.linalg.inv(X.T.dot(X)).dot(X.T).dot(Y)\n",
    "best"
   ]
  },
  {
   "cell_type": "code",
   "execution_count": 19,
   "metadata": {},
   "outputs": [
    {
     "data": {
      "image/png": "[encoded data removed]",
      "text/plain": [
       "<Figure size 432x288 with 1 Axes>"
      ]
     },
     "metadata": {
      "needs_background": "light"
     },
     "output_type": "display_data"
    }
   ],
   "source": [
    "old_x=np.linspace(0,2,100)#矩阵运算参数\n",
    "x=np.c_[np.ones(100),old_x]\n",
    "pre_y=best.T.dot(x.T)\n",
    "plt.plot(old_X,Y,'.')\n",
    "plt.plot(old_x,pre_y.T,'r.')\n",
    "plt.show()"
   ]
  },
  {
   "cell_type": "code",
   "execution_count": 20,
   "metadata": {},
   "outputs": [
    {
     "name": "stdout",
     "output_type": "stream",
     "text": [
      "[[ 5.4950077 ]\n",
      " [-2.97606486]] 451 times\n"
     ]
    }
   ],
   "source": [
    "delta=np.array([10])#批量梯度下降法\n",
    "eta=0.1\n",
    "k=0\n",
    "param=np.random.rand(2,1)\n",
    "while(abs(sum(delta))>0.0000001):\n",
    "    delta=2/len(X)*X.T.dot(X.dot(param)-Y)\n",
    "    param=param-eta*delta\n",
    "    k+=1\n",
    "    #print(sum(list(eta*delta)))\n",
    "print(param,k,'times')\n"
   ]
  },
  {
   "cell_type": "code",
   "execution_count": 21,
   "metadata": {},
   "outputs": [
    {
     "data": {
      "text/plain": [
       "array([[ 5.602412  ],\n",
       "       [-3.06775534]])"
      ]
     },
     "execution_count": 21,
     "metadata": {},
     "output_type": "execute_result"
    }
   ],
   "source": [
    "n_epochs=50#随机梯度下降\n",
    "t0,t1=5,50\n",
    "m=50 #迭代次数\n",
    "theta=np.random.rand(2,1)\n",
    "for epoch in range(n_epochs):\n",
    "    for i in range(m):\n",
    "        rand_index=np.random.randint(m)\n",
    "        xi=X[rand_index:rand_index+1]\n",
    "        yi=Y[rand_index:rand_index+1]\n",
    "        delta=2*xi.T.dot(xi.dot(theta)-yi)\n",
    "        eta=5/(50+epoch*m+i)\n",
    "        theta=theta-eta*delta\n",
    "theta"
   ]
  },
  {
   "cell_type": "code",
   "execution_count": 17,
   "metadata": {},
   "outputs": [],
   "source": [
    "#小批量随机下降是每次基于一小部分实例的下降"
   ]
  }
 ],
 "metadata": {
  "kernelspec": {
   "display_name": "Python 3",
   "language": "python",
   "name": "python3"
  },
  "language_info": {
   "codemirror_mode": {
    "name": "ipython",
    "version": 3
   },
   "file_extension": ".py",
   "mimetype": "text/x-python",
   "name": "python",
   "nbconvert_exporter": "python",
   "pygments_lexer": "ipython3",
   "version": "3.7.0"
  }
 },
 "nbformat": 4,
 "nbformat_minor": 2
}
