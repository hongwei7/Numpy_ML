{
 "cells": [
  {
   "cell_type": "code",
   "execution_count": 1,
   "metadata": {},
   "outputs": [
    {
     "name": "stdout",
     "output_type": "stream",
     "text": [
      "loading data...\n",
      "['39' ' State-gov' ' 77516' ' Bachelors' ' 13' ' Never-married'\n",
      " ' Adm-clerical' ' Not-in-family' ' White' ' Male' ' 2174' ' 0' ' 40'\n",
      " ' United-States']\n",
      "[[1.21502827 1.21502827 1.21502827 ... 0.21502827 1.21502827 0.21502827]]\n",
      "done!\n"
     ]
    }
   ],
   "source": [
    "#load\n",
    "print('loading data...')\n",
    "import numpy as np\n",
    "file=open('adult.data')\n",
    "r_X=[]\n",
    "r_y=[]\n",
    "for line in file.readlines():\n",
    "    items=str(line).split(',')\n",
    "    r_X.append(items[:-1])\n",
    "    r_y.append(items[-1]==' >50K\\n')\n",
    "del r_X[32561],r_y[32561]\n",
    "y=np.array(r_y).astype('int')\n",
    "X=np.array(r_X)\n",
    "def count(row):\n",
    "    index=dict()\n",
    "    names=set()\n",
    "    for i in row:\n",
    "        if i not in names:\n",
    "            names.add(i)\n",
    "    for i in names:\n",
    "        i_num=(row[y==1]==i).sum()\n",
    "        index[i]=i_num\n",
    "    for i in range(len(index.keys())):\n",
    "        max_index=min(index)\n",
    "        row[row==max_index]=index[max_index]\n",
    "        del index[max_index]\n",
    "    return row.astype('float')\n",
    "print(X[0])\n",
    "for num in [1,3,5,6,7,8,9,13]:\n",
    "    count(X[:,num])\n",
    "X=np.matrix(X.astype(float)).T\n",
    "X=X/(X.max(axis=1)-X.min(axis=1))\n",
    "print(X[9,:])\n",
    "print('done!')"
   ]
  },
  {
   "cell_type": "code",
   "execution_count": 2,
   "metadata": {},
   "outputs": [
    {
     "data": {
      "text/plain": [
       "matrix([[0.53424658],\n",
       "        [0.07112633],\n",
       "        [0.05264531],\n",
       "        [1.        ],\n",
       "        [0.86666667],\n",
       "        [0.07348099],\n",
       "        [0.25775292],\n",
       "        [0.14555348],\n",
       "        [1.0035251 ],\n",
       "        [1.21502827],\n",
       "        [0.02174022],\n",
       "        [0.        ],\n",
       "        [0.40816327],\n",
       "        [1.        ]])"
      ]
     },
     "execution_count": 2,
     "metadata": {},
     "output_type": "execute_result"
    }
   ],
   "source": [
    "X.shape,y.shape,(y==0).sum()/X.shape[1],X\n",
    "X[:,0]"
   ]
  },
  {
   "cell_type": "code",
   "execution_count": 3,
   "metadata": {},
   "outputs": [
    {
     "name": "stdout",
     "output_type": "stream",
     "text": [
      "used time: 3.278 s\n"
     ]
    },
    {
     "data": {
      "image/png": "[encoded data removed]",
      "text/plain": [
       "<Figure size 432x288 with 1 Axes>"
      ]
     },
     "metadata": {
      "needs_background": "light"
     },
     "output_type": "display_data"
    },
    {
     "name": "stdout",
     "output_type": "stream",
     "text": [
      "min_val_error: 0.19698412210927183 best_epoch: 6817\n",
      "accuracy: 80.30%\n"
     ]
    },
    {
     "data": {
      "text/plain": [
       "matrix([[-0.99825192, -0.45173206, -1.47257706, -0.18911068,  0.29329411,\n",
       "          1.67148979,  1.91220835,  1.01069696, -0.58294323, -1.12385166,\n",
       "          2.88566712,  1.67658864, -0.55766929, -0.92827047]])"
      ]
     },
     "execution_count": 3,
     "metadata": {},
     "output_type": "execute_result"
    }
   ],
   "source": [
    "from matplotlib import pyplot as plt\n",
    "%matplotlib inline\n",
    "import random\n",
    "from sklearn.model_selection import train_test_split\n",
    "import time\n",
    "\n",
    "def sigmoid(m):\n",
    "    return 1/(1+np.exp(-m))\n",
    "def get_result(X,theta):\n",
    "    return (sigmoid(theta.dot(X.T))>=0.5).astype('int')\n",
    "def fit(X,y,theta,eta):\n",
    "    for i in range(1):\n",
    "        delta=1/X.shape[1]*((sigmoid(theta.dot(X))-y).dot(X.T))\n",
    "        theta=theta-eta*delta\n",
    "    return theta\n",
    "def small_gra_train(X,y):\n",
    "    p_x=[]\n",
    "    p_y=[]\n",
    "    since=time.time()\n",
    "    x_val,y_val=X,y\n",
    "    x_val=x_val.T\n",
    "    theta=np.matrix(np.random.rand(1,X.shape[0]))\n",
    "    eta=0.1\n",
    "    min_val_error=float('inf')\n",
    "    for i in range(7000):\n",
    "        random_num=random.randint(0,X.shape[1]-1)\n",
    "        x_train,y_train=X[:,random_num],y[random_num]\n",
    "        theta=fit(x_train,y_train,theta,eta)\n",
    "        val_error=(get_result(x_val,theta)!=y_val).sum()/len(y_val)\n",
    "        p_x.append(i)\n",
    "        p_y.append(val_error)\n",
    "        if val_error<min_val_error:\n",
    "            min_val_error=val_error\n",
    "            best_theta=theta\n",
    "            best_epoch=i\n",
    "    print('used time:',str(time.time()-since)[:5],'s')\n",
    "    plt.plot(p_x,p_y)\n",
    "    plt.show()\n",
    "    print('min_val_error:',min_val_error,'best_epoch:',best_epoch)\n",
    "    pre_y=get_result(X.T,best_theta)\n",
    "    print('accuracy:',str(100*(pre_y==y).sum()/X.shape[1])[:5]+'%') #小批量梯度下降 正确率81%\n",
    "    return best_theta\n",
    "small_gra_train(X,y)"
   ]
  },
  {
   "cell_type": "code",
   "execution_count": 4,
   "metadata": {},
   "outputs": [
    {
     "name": "stderr",
     "output_type": "stream",
     "text": [
      "/Library/Frameworks/Python.framework/Versions/3.7/lib/python3.7/site-packages/sklearn/linear_model/logistic.py:432: FutureWarning: Default solver will be changed to 'lbfgs' in 0.22. Specify a solver to silence this warning.\n",
      "  FutureWarning)\n"
     ]
    },
    {
     "data": {
      "text/plain": [
       "0.8450907527410092"
      ]
     },
     "execution_count": 4,
     "metadata": {},
     "output_type": "execute_result"
    }
   ],
   "source": [
    "from sklearn.linear_model import LogisticRegression\n",
    "clf=LogisticRegression()\n",
    "clf.fit(X.T,y)\n",
    "pre_y=clf.predict(X.T)\n",
    "(pre_y==y).sum()/len(y)"
   ]
  },
  {
   "cell_type": "code",
   "execution_count": null,
   "metadata": {},
   "outputs": [],
   "source": []
  }
 ],
 "metadata": {
  "kernelspec": {
   "display_name": "Python 3",
   "language": "python",
   "name": "python3"
  },
  "language_info": {
   "codemirror_mode": {
    "name": "ipython",
    "version": 3
   },
   "file_extension": ".py",
   "mimetype": "text/x-python",
   "name": "python",
   "nbconvert_exporter": "python",
   "pygments_lexer": "ipython3",
   "version": "3.7.0"
  }
 },
 "nbformat": 4,
 "nbformat_minor": 2
}
