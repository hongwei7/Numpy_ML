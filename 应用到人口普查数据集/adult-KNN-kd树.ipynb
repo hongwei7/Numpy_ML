{
 "cells": [
  {
   "cell_type": "code",
   "execution_count": 1,
   "metadata": {},
   "outputs": [
    {
     "name": "stdout",
     "output_type": "stream",
     "text": [
      "loading data...\n",
      "['39' ' State-gov' ' 77516' ' Bachelors' ' 13' ' Never-married'\n",
      " ' Adm-clerical' ' Not-in-family' ' White' ' Male' ' 2174' ' 0' ' 40'\n",
      " ' United-States']\n",
      "[[1.21502827 1.21502827 1.21502827 ... 0.21502827 1.21502827 0.21502827]]\n",
      "done!\n"
     ]
    }
   ],
   "source": [
    "#load\n",
    "print('loading data...')\n",
    "import numpy as np\n",
    "file=open('adult.data')\n",
    "r_X=[]\n",
    "r_y=[]\n",
    "for line in file.readlines():\n",
    "    items=str(line).split(',')\n",
    "    r_X.append(items[:-1])\n",
    "    r_y.append(items[-1]==' >50K\\n')\n",
    "del r_X[32561],r_y[32561]\n",
    "y=np.array(r_y).astype('int')\n",
    "X=np.array(r_X)\n",
    "def count(row):\n",
    "    index=dict()\n",
    "    names=set()\n",
    "    for i in row:\n",
    "        if i not in names:\n",
    "            names.add(i)\n",
    "    for i in names:\n",
    "        i_num=(row[y==1]==i).sum()\n",
    "        index[i]=i_num\n",
    "    for i in range(len(index.keys())):\n",
    "        max_index=min(index)\n",
    "        row[row==max_index]=index[max_index]\n",
    "        del index[max_index]\n",
    "    return row.astype('float')\n",
    "print(X[0])\n",
    "for num in [1,3,5,6,7,8,9,13]:\n",
    "    count(X[:,num])\n",
    "X=np.matrix(X.astype(float)).T\n",
    "X=X/(X.max(axis=1)-X.min(axis=1))\n",
    "print(X[9,:])\n",
    "print('done!')"
   ]
  },
  {
   "cell_type": "code",
   "execution_count": 2,
   "metadata": {},
   "outputs": [
    {
     "data": {
      "text/plain": [
       "((14, 32561),\n",
       " (32561,),\n",
       " 0.7591904425539756,\n",
       " matrix([[0.53424658, 0.68493151, 0.52054795, ..., 0.79452055, 0.30136986,\n",
       "          0.71232877],\n",
       "         [0.07112633, 0.14587951, 1.        , ..., 1.        , 1.        ,\n",
       "          0.12532742],\n",
       "         [0.05264531, 0.056581  , 0.14645685, ..., 0.10317029, 0.13684275,\n",
       "          0.19554679],\n",
       "         ...,\n",
       "         [0.        , 0.        , 0.        , ..., 0.        , 0.        ,\n",
       "          0.        ],\n",
       "         [0.40816327, 0.13265306, 0.40816327, ..., 0.40816327, 0.20408163,\n",
       "          0.40816327],\n",
       "         [1.        , 1.        , 1.        , ..., 1.        , 1.        ,\n",
       "          1.        ]]))"
      ]
     },
     "execution_count": 2,
     "metadata": {},
     "output_type": "execute_result"
    }
   ],
   "source": [
    "X.shape,y.shape,(y==0).sum()/X.shape[1],X"
   ]
  },
  {
   "cell_type": "code",
   "execution_count": 12,
   "metadata": {},
   "outputs": [
    {
     "data": {
      "text/plain": [
       "(14, 300)"
      ]
     },
     "execution_count": 12,
     "metadata": {},
     "output_type": "execute_result"
    }
   ],
   "source": [
    "X_train,y_train,X_val,y_val=X[:,:300],y[:300],X[:,3030:3035],y[3030:3035]\n",
    "X_train.shape"
   ]
  },
  {
   "cell_type": "code",
   "execution_count": 13,
   "metadata": {},
   "outputs": [],
   "source": [
    "class node(object):\n",
    "    def __init__(self, dataset, depth=0, parent=None, median=None):\n",
    "        self.parent = parent\n",
    "        self.median = median\n",
    "        self.depth = depth\n",
    "        self.data = dataset\n",
    "        self.create_child_node()\n",
    "\n",
    "    def create_child_node(self):\n",
    "        if self.data.shape[1] <= 1:\n",
    "            if self.data.shape[1] == 1:\n",
    "                self.value = self.data\n",
    "            else:\n",
    "                self.value = None\n",
    "            return\n",
    "        else:\n",
    "            self.median = np.median(self.data[(self.depth)], axis=1)\n",
    "            median = self.median\n",
    "            left = self.data[np.repeat(self.data[self.depth, :] < median, self.data.shape[0]).reshape(\n",
    "                self.data.shape[1], self.data.shape[0]).T]\n",
    "            left = left.reshape(self.data.shape[0], int(\n",
    "                left.shape[1] / self.data.shape[0]))\n",
    "            right = self.data[np.repeat(self.data[self.depth, :] >= median, self.data.shape[0]).reshape(\n",
    "                self.data.shape[1], self.data.shape[0]).T]\n",
    "            right = right.reshape(self.data.shape[0], int(\n",
    "                right.shape[1] / self.data.shape[0]))\n",
    "            self.left = node(depth=(self.depth + 1) %\n",
    "                             self.data.shape[0], parent=self, dataset=left)\n",
    "            self.right = node(depth=(self.depth + 1) %\n",
    "                              self.data.shape[0], parent=self, dataset=right)\n",
    "            self.value = self.data[:, 0]\n",
    "\n",
    "\n",
    "class kdd_KNN(object):\n",
    "    def fit(self, X, y):\n",
    "        self.X=X\n",
    "        self.kdtree = node(self.X)\n",
    "\n",
    "    def predict(self, x):\n",
    "        x = x.T\n",
    "        result = []\n",
    "        i = 0\n",
    "        for xi in x:\n",
    "            i += 1\n",
    "            print(i)\n",
    "            xi = xi.T\n",
    "            cloest = self.find(xi, self.kdtree)\n",
    "            result.append(\n",
    "                y[np.where((self.X == cloest).sum(axis=0) == xi.shape[0])[1]][0])\n",
    "        return result\n",
    "\n",
    "    def find(self, x, kdtree,depth=0):\n",
    "        root = kdtree\n",
    "        locate = kdtree\n",
    "        cloest = locate.value\n",
    "        side = None\n",
    "        while locate.data.shape[1] > 1:\n",
    "            if x[depth % x.shape[0]] < locate.median:\n",
    "                locate = locate.left\n",
    "                side = 'l'\n",
    "            else:\n",
    "                locate = locate.right\n",
    "                side = 'r'\n",
    "            depth+=1\n",
    "            while locate.data.shape[1] == 0:\n",
    "                locate = locate.parent\n",
    "                if side == 'r':\n",
    "                    locate = locate.left\n",
    "                else:\n",
    "                    locate = locate.right\n",
    "            if (np.array(locate.value - x)**2).sum() < (np.array(cloest - x)**2).sum() and locate.value.shape[1] != 0:\n",
    "                cloest = locate.value\n",
    "        cloest = locate.data\n",
    "        while(locate != root):\n",
    "            locate = locate.parent\n",
    "            depth-=1\n",
    "            if side == 'r':\n",
    "                other = self.find(x, locate.left,depth+1)\n",
    "            else:\n",
    "                other = self.find(x, locate.right,depth+1)\n",
    "\n",
    "            if (np.array(other - x)**2).sum() < (np.array(cloest - x)**2).sum() and other.shape[1] != 0:\n",
    "                cloest = other\n",
    "        return cloest"
   ]
  },
  {
   "cell_type": "code",
   "execution_count": 14,
   "metadata": {},
   "outputs": [
    {
     "name": "stdout",
     "output_type": "stream",
     "text": [
      "1\n",
      "2\n",
      "3\n",
      "4\n",
      "5\n"
     ]
    }
   ],
   "source": [
    "clf=kdd_KNN()\n",
    "clf.fit(X_train,y)\n",
    "pre_y=clf.predict(X_val)"
   ]
  },
  {
   "cell_type": "code",
   "execution_count": 11,
   "metadata": {},
   "outputs": [
    {
     "data": {
      "text/plain": [
       "([0, 0, 0, 1, 0], array([0, 0, 1, 0, 0]))"
      ]
     },
     "execution_count": 11,
     "metadata": {},
     "output_type": "execute_result"
    }
   ],
   "source": [
    "pre_y,y_val"
   ]
  },
  {
   "cell_type": "code",
   "execution_count": null,
   "metadata": {},
   "outputs": [],
   "source": []
  }
 ],
 "metadata": {
  "kernelspec": {
   "display_name": "Python 3",
   "language": "python",
   "name": "python3"
  },
  "language_info": {
   "codemirror_mode": {
    "name": "ipython",
    "version": 3
   },
   "file_extension": ".py",
   "mimetype": "text/x-python",
   "name": "python",
   "nbconvert_exporter": "python",
   "pygments_lexer": "ipython3",
   "version": "3.7.0"
  }
 },
 "nbformat": 4,
 "nbformat_minor": 2
}
