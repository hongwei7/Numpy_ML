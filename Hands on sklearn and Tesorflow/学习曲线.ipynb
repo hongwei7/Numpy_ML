{
 "cells": [
  {
   "cell_type": "code",
   "execution_count": 1,
   "metadata": {},
   "outputs": [],
   "source": [
    "from sklearn.metrics import mean_squared_error\n",
    "from sklearn.model_selection import train_test_split\n",
    "from matplotlib import pyplot as plt\n",
    "%matplotlib inline\n",
    "def plot_learning_curves(model,x,y):\n",
    "    print('plotting curves...')\n",
    "    x_train,x_val,y_train,y_val=train_test_split(x,y,test_size=0.2)\n",
    "    train_errors,val_errors=[],[]\n",
    "    for m in range(1,len(x_train),100):\n",
    "        model.fit(x_train[:m],y_train[:m])\n",
    "        y_train_predict=model.predict(x_train[:m])\n",
    "        y_val_predict=model.predict(x_val)\n",
    "        train_errors.append(mean_squared_error(y_train_predict,y_train[:m]))\n",
    "        val_errors.append(mean_squared_error(y_val_predict,y_val))\n",
    "    train_errors=np.array(train_errors)\n",
    "    val_errors=np.array(val_errors)\n",
    "    plt.plot(((train_errors)),'r-+',linewidth=2,label='train')\n",
    "    plt.plot(((val_errors)),'b-',linewidth=2,label='val')\n",
    "    print('val_errors:',val_errors[-1],'train_errors:',train_errors[-1])\n",
    "    print('delta_train_val_errors:',val_errors[-1]-train_errors[-1])"
   ]
  },
  {
   "cell_type": "code",
   "execution_count": 2,
   "metadata": {},
   "outputs": [
    {
     "name": "stdout",
     "output_type": "stream",
     "text": [
      "preparing data...\n",
      "done!\n"
     ]
    }
   ],
   "source": [
    "import pandas as pd\n",
    "import numpy as np\n",
    "from xgboost import XGBRegressor as chosen_model\n",
    "print('preparing data...')\n",
    "train = pd.read_csv('happiness_train_complete1.csv')\n",
    "train = train.loc[train['happiness'] != -8]\n",
    "del_list = ['id', 'survey_time', 'edu_other', 'property_other','happiness', 'invest_other']\n",
    "y = train.happiness.values\n",
    "for index in del_list:\n",
    "    del train[index]\n",
    "for i in train.columns:\n",
    "    train[i].astype(float)\n",
    "    train[i][train[i] < 0] = train[i].median()\n",
    "    train[i].fillna(train[i].median(), inplace=True)\n",
    "print('done!')\n",
    "X = train.values\n"
   ]
  },
  {
   "cell_type": "code",
   "execution_count": 3,
   "metadata": {},
   "outputs": [
    {
     "name": "stdout",
     "output_type": "stream",
     "text": [
      "plotting curves...\n",
      "val_errors: 0.4640860586346035 train_errors: 0.3904041212845563\n",
      "delta_train_val_errors: 0.07368193735004719\n"
     ]
    },
    {
     "data": {
      "image/png": "[encoded data removed]",
      "text/plain": [
       "<Figure size 432x288 with 1 Axes>"
      ]
     },
     "metadata": {
      "needs_background": "light"
     },
     "output_type": "display_data"
    }
   ],
   "source": [
    "model=chosen_model()\n",
    "plot_learning_curves(model,X,y)"
   ]
  },
  {
   "cell_type": "code",
   "execution_count": null,
   "metadata": {},
   "outputs": [],
   "source": []
  }
 ],
 "metadata": {
  "kernelspec": {
   "display_name": "Python 3",
   "language": "python",
   "name": "python3"
  },
  "language_info": {
   "codemirror_mode": {
    "name": "ipython",
    "version": 3
   },
   "file_extension": ".py",
   "mimetype": "text/x-python",
   "name": "python",
   "nbconvert_exporter": "python",
   "pygments_lexer": "ipython3",
   "version": "3.7.0"
  }
 },
 "nbformat": 4,
 "nbformat_minor": 2
}
