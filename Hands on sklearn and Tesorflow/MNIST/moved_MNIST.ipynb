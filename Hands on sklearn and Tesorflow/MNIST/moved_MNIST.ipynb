{
 "cells": [
  {
   "cell_type": "code",
   "execution_count": 1,
   "metadata": {
    "scrolled": true
   },
   "outputs": [
    {
     "name": "stdout",
     "output_type": "stream",
     "text": [
      "(60000, 785)\n",
      "       label  1x1  1x2  1x3  1x4  1x5  1x6  1x7  1x8  1x9  ...    28x19  \\\n",
      "0          5    0    0    0    0    0    0    0    0    0  ...        0   \n",
      "1          0    0    0    0    0    0    0    0    0    0  ...        0   \n",
      "2          4    0    0    0    0    0    0    0    0    0  ...        0   \n",
      "3          1    0    0    0    0    0    0    0    0    0  ...        0   \n",
      "4          9    0    0    0    0    0    0    0    0    0  ...        0   \n",
      "5          2    0    0    0    0    0    0    0    0    0  ...        0   \n",
      "6          1    0    0    0    0    0    0    0    0    0  ...        0   \n",
      "7          3    0    0    0    0    0    0    0    0    0  ...        0   \n",
      "8          1    0    0    0    0    0    0    0    0    0  ...        0   \n",
      "9          4    0    0    0    0    0    0    0    0    0  ...        0   \n",
      "10         3    0    0    0    0    0    0    0    0    0  ...        0   \n",
      "11         5    0    0    0    0    0    0    0    0    0  ...        0   \n",
      "12         3    0    0    0    0    0    0    0    0    0  ...        0   \n",
      "13         6    0    0    0    0    0    0    0    0    0  ...        0   \n",
      "14         1    0    0    0    0    0    0    0    0    0  ...        0   \n",
      "15         7    0    0    0    0    0    0    0    0    0  ...        0   \n",
      "16         2    0    0    0    0    0    0    0    0    0  ...        0   \n",
      "17         8    0    0    0    0    0    0    0    0    0  ...        0   \n",
      "18         6    0    0    0    0    0    0    0    0    0  ...        0   \n",
      "19         9    0    0    0    0    0    0    0    0    0  ...        0   \n",
      "20         4    0    0    0    0    0    0    0    0    0  ...        0   \n",
      "21         0    0    0    0    0    0    0    0    0    0  ...        0   \n",
      "22         9    0    0    0    0    0    0    0    0    0  ...        0   \n",
      "23         1    0    0    0    0    0    0    0    0    0  ...        0   \n",
      "24         1    0    0    0    0    0    0    0    0    0  ...        0   \n",
      "25         2    0    0    0    0    0    0    0    0    0  ...        0   \n",
      "26         4    0    0    0    0    0    0    0    0    0  ...        0   \n",
      "27         3    0    0    0    0    0    0    0    0    0  ...        0   \n",
      "28         2    0    0    0    0    0    0    0    0    0  ...        0   \n",
      "29         7    0    0    0    0    0    0    0    0    0  ...        0   \n",
      "...      ...  ...  ...  ...  ...  ...  ...  ...  ...  ...  ...      ...   \n",
      "59970      2    0    0    0    0    0    0    0    0    0  ...        0   \n",
      "59971      2    0    0    0    0    0    0    0    0    0  ...        0   \n",
      "59972      0    0    0    0    0    0    0    0    0    0  ...        0   \n",
      "59973      9    0    0    0    0    0    0    0    0    0  ...        0   \n",
      "59974      2    0    0    0    0    0    0    0    0    0  ...        0   \n",
      "59975      4    0    0    0    0    0    0    0    0    0  ...        0   \n",
      "59976      6    0    0    0    0    0    0    0    0    0  ...        0   \n",
      "59977      7    0    0    0    0    0    0    0    0    0  ...        0   \n",
      "59978      3    0    0    0    0    0    0    0    0    0  ...        0   \n",
      "59979      1    0    0    0    0    0    0    0    0    0  ...        0   \n",
      "59980      3    0    0    0    0    0    0    0    0    0  ...        0   \n",
      "59981      6    0    0    0    0    0    0    0    0    0  ...        0   \n",
      "59982      6    0    0    0    0    0    0    0    0    0  ...        0   \n",
      "59983      2    0    0    0    0    0    0    0    0    0  ...        0   \n",
      "59984      1    0    0    0    0    0    0    0    0    0  ...        0   \n",
      "59985      2    0    0    0    0    0    0    0    0    0  ...        0   \n",
      "59986      6    0    0    0    0    0    0    0    0    0  ...        0   \n",
      "59987      0    0    0    0    0    0    0    0    0    0  ...        0   \n",
      "59988      7    0    0    0    0    0    0    0    0    0  ...        0   \n",
      "59989      8    0    0    0    0    0    0    0    0    0  ...        0   \n",
      "59990      9    0    0    0    0    0    0    0    0    0  ...        0   \n",
      "59991      2    0    0    0    0    0    0    0    0    0  ...        0   \n",
      "59992      9    0    0    0    0    0    0    0    0    0  ...        0   \n",
      "59993      5    0    0    0    0    0    0    0    0    0  ...        0   \n",
      "59994      1    0    0    0    0    0    0    0    0    0  ...        0   \n",
      "59995      8    0    0    0    0    0    0    0    0    0  ...        0   \n",
      "59996      3    0    0    0    0    0    0    0    0    0  ...        0   \n",
      "59997      5    0    0    0    0    0    0    0    0    0  ...        0   \n",
      "59998      6    0    0    0    0    0    0    0    0    0  ...        0   \n",
      "59999      8    0    0    0    0    0    0    0    0    0  ...        0   \n",
      "\n",
      "       28x20  28x21  28x22  28x23  28x24  28x25  28x26  28x27  28x28  \n",
      "0          0      0      0      0      0      0      0      0      0  \n",
      "1          0      0      0      0      0      0      0      0      0  \n",
      "2          0      0      0      0      0      0      0      0      0  \n",
      "3          0      0      0      0      0      0      0      0      0  \n",
      "4          0      0      0      0      0      0      0      0      0  \n",
      "5          0      0      0      0      0      0      0      0      0  \n",
      "6          0      0      0      0      0      0      0      0      0  \n",
      "7          0      0      0      0      0      0      0      0      0  \n",
      "8          0      0      0      0      0      0      0      0      0  \n",
      "9          0      0      0      0      0      0      0      0      0  \n",
      "10         0      0      0      0      0      0      0      0      0  \n",
      "11         0      0      0      0      0      0      0      0      0  \n",
      "12         0      0      0      0      0      0      0      0      0  \n",
      "13         0      0      0      0      0      0      0      0      0  \n",
      "14         0      0      0      0      0      0      0      0      0  \n",
      "15         0      0      0      0      0      0      0      0      0  \n",
      "16         0      0      0      0      0      0      0      0      0  \n",
      "17         0      0      0      0      0      0      0      0      0  \n",
      "18         0      0      0      0      0      0      0      0      0  \n",
      "19         0      0      0      0      0      0      0      0      0  \n",
      "20         0      0      0      0      0      0      0      0      0  \n",
      "21         0      0      0      0      0      0      0      0      0  \n",
      "22         0      0      0      0      0      0      0      0      0  \n",
      "23         0      0      0      0      0      0      0      0      0  \n",
      "24         0      0      0      0      0      0      0      0      0  \n",
      "25         0      0      0      0      0      0      0      0      0  \n",
      "26         0      0      0      0      0      0      0      0      0  \n",
      "27         0      0      0      0      0      0      0      0      0  \n",
      "28         0      0      0      0      0      0      0      0      0  \n",
      "29         0      0      0      0      0      0      0      0      0  \n",
      "...      ...    ...    ...    ...    ...    ...    ...    ...    ...  \n",
      "59970      0      0      0      0      0      0      0      0      0  \n",
      "59971      0      0      0      0      0      0      0      0      0  \n",
      "59972      0      0      0      0      0      0      0      0      0  \n",
      "59973      0      0      0      0      0      0      0      0      0  \n",
      "59974      0      0      0      0      0      0      0      0      0  \n",
      "59975      0      0      0      0      0      0      0      0      0  \n",
      "59976      0      0      0      0      0      0      0      0      0  \n",
      "59977      0      0      0      0      0      0      0      0      0  \n",
      "59978      0      0      0      0      0      0      0      0      0  \n",
      "59979      0      0      0      0      0      0      0      0      0  \n",
      "59980      0      0      0      0      0      0      0      0      0  \n",
      "59981      0      0      0      0      0      0      0      0      0  \n",
      "59982      0      0      0      0      0      0      0      0      0  \n",
      "59983      0      0      0      0      0      0      0      0      0  \n",
      "59984      0      0      0      0      0      0      0      0      0  \n",
      "59985      0      0      0      0      0      0      0      0      0  \n",
      "59986      0      0      0      0      0      0      0      0      0  \n",
      "59987      0      0      0      0      0      0      0      0      0  \n",
      "59988      0      0      0      0      0      0      0      0      0  \n",
      "59989      0      0      0      0      0      0      0      0      0  \n",
      "59990      0      0      0      0      0      0      0      0      0  \n",
      "59991      0      0      0      0      0      0      0      0      0  \n",
      "59992      0      0      0      0      0      0      0      0      0  \n",
      "59993      0      0      0      0      0      0      0      0      0  \n",
      "59994      0      0      0      0      0      0      0      0      0  \n",
      "59995      0      0      0      0      0      0      0      0      0  \n",
      "59996      0      0      0      0      0      0      0      0      0  \n",
      "59997      0      0      0      0      0      0      0      0      0  \n",
      "59998      0      0      0      0      0      0      0      0      0  \n",
      "59999      0      0      0      0      0      0      0      0      0  \n",
      "\n",
      "[60000 rows x 785 columns]\n",
      "Index(['label', '1x1', '1x2', '1x3', '1x4', '1x5', '1x6', '1x7', '1x8', '1x9',\n",
      "       ...\n",
      "       '28x19', '28x20', '28x21', '28x22', '28x23', '28x24', '28x25', '28x26',\n",
      "       '28x27', '28x28'],\n",
      "      dtype='object', length=785)\n"
     ]
    }
   ],
   "source": [
    "import pandas as pd\n",
    "file=pd.read_csv('mnist_train.csv')\n",
    "print(file.shape)\n",
    "print(file)\n",
    "mnist=dict()\n",
    "print(file.columns)\n",
    "mnist['data']=file\n",
    "mnist['target']=file['label']\n",
    "del mnist['data']['label']\n",
    "mnist['data']=mnist['data'].values\n",
    "mnist['target']=mnist['target'].values\n",
    "X,y=mnist['data'],mnist['target']\n",
    "X_train,y_train,X_test,y_test=X[:50000],y[:50000],X[50000:],y[50000:]\n",
    "import numpy as np\n",
    "shuffle_index=np.random.permutation(50000)\n",
    "X_train,y_train=X_train[shuffle_index],y_train[shuffle_index]"
   ]
  },
  {
   "cell_type": "code",
   "execution_count": 2,
   "metadata": {},
   "outputs": [
    {
     "data": {
      "text/plain": [
       "(500, 784)"
      ]
     },
     "execution_count": 2,
     "metadata": {},
     "output_type": "execute_result"
    }
   ],
   "source": [
    "from sklearn.neighbors import KNeighborsClassifier as kn\n",
    "\n",
    "knn_clf=kn()\n",
    "X_train=X_train[:500]\n",
    "y_train=y_train[:500]\n",
    "X_train.shape"
   ]
  },
  {
   "cell_type": "code",
   "execution_count": 3,
   "metadata": {},
   "outputs": [],
   "source": [
    "from matplotlib import pyplot as plt\n",
    "%matplotlib inline"
   ]
  },
  {
   "cell_type": "code",
   "execution_count": 4,
   "metadata": {
    "scrolled": false
   },
   "outputs": [
    {
     "name": "stdout",
     "output_type": "stream",
     "text": [
      "(500, 784) (500, 784)\n"
     ]
    },
    {
     "data": {
      "text/plain": [
       "((2500, 784), (2500,))"
      ]
     },
     "execution_count": 4,
     "metadata": {},
     "output_type": "execute_result"
    }
   ],
   "source": [
    "def move_right(imgx):\n",
    "    right=imgx.reshape(28,28)[:,0:-1]\n",
    "    left=np.zeros(28)\n",
    "    con=np.c_[left,right]\n",
    "    return con.flatten()\n",
    "def move_left(imgx):\n",
    "    right=imgx.reshape(28,28)[:,1:]\n",
    "    left=np.zeros(28)\n",
    "    con=np.c_[right,left]\n",
    "    return con.flatten()\n",
    "def move_up(imgx):\n",
    "    right=imgx.reshape(28,28)[1:,:]\n",
    "    left=np.zeros(28)\n",
    "    left=left.reshape(1,28)\n",
    "    con=np.r_[right,left]\n",
    "    return con.flatten()\n",
    "def move_down(imgx):\n",
    "    right=imgx.reshape(28,28)[:-1,:]\n",
    "    left=np.zeros(28)\n",
    "    left=left.reshape(1,28)\n",
    "    con=np.r_[left,right]\n",
    "    return con.flatten()\n",
    "right_X_train=np.apply_along_axis(move_right,axis=1,arr=X_train)\n",
    "print(X_train.shape,right_X_train.shape)\n",
    "left_X_train=np.apply_along_axis(move_left,axis=1,arr=X_train)\n",
    "up_X_train=np.apply_along_axis(move_up,axis=1,arr=X_train)\n",
    "down_X_train=np.apply_along_axis(move_down,axis=1,arr=X_train)\n",
    "X_train=np.r_[X_train,left_X_train,right_X_train,up_X_train,down_X_train]\n",
    "y_train=np.r_[y_train,y_train,y_train,y_train,y_train]\n",
    "X_train.shape,y_train.shape"
   ]
  },
  {
   "cell_type": "code",
   "execution_count": 5,
   "metadata": {},
   "outputs": [
    {
     "name": "stdout",
     "output_type": "stream",
     "text": [
      "start!\n",
      "0.06273317337036133 seconds\n"
     ]
    }
   ],
   "source": [
    "kn_clf=kn(weights='distance',n_neighbors=6,p=4)\n",
    "grid_clf=kn_clf\n",
    "print('start!')\n",
    "import time\n",
    "t1=time.time()\n",
    "grid_clf.fit(X_train,y_train)\n",
    "t2=time.time()\n",
    "print(t2-t1,'seconds')"
   ]
  },
  {
   "cell_type": "code",
   "execution_count": 6,
   "metadata": {
    "scrolled": false
   },
   "outputs": [
    {
     "data": {
      "image/png": "[encoded data removed]",
      "text/plain": [
       "<Figure size 432x288 with 1 Axes>"
      ]
     },
     "metadata": {
      "needs_background": "light"
     },
     "output_type": "display_data"
    },
    {
     "data": {
      "image/png": "[encoded data removed]",
      "text/plain": [
       "<Figure size 432x288 with 1 Axes>"
      ]
     },
     "metadata": {
      "needs_background": "light"
     },
     "output_type": "display_data"
    },
    {
     "name": "stdout",
     "output_type": "stream",
     "text": [
      "0.29198384284973145 s\n"
     ]
    },
    {
     "data": {
      "text/plain": [
       "array([[ 929,    1,    3,    1,    1,    9,   38,    0,    0,    9],\n",
       "       [   0, 1056,    2,    0,    1,    0,    1,    2,    2,    0],\n",
       "       [  17,   30,  845,   21,   14,    1,    9,   30,   14,    9],\n",
       "       [   1,   14,   11,  920,   10,   34,    4,    4,   26,    6],\n",
       "       [   1,   52,    2,    0,  829,    0,    7,    8,    0,   84],\n",
       "       [   8,   10,    3,   40,   15,  786,   25,    5,   17,    6],\n",
       "       [  18,    7,    1,    0,    2,    6,  930,    0,    3,    0],\n",
       "       [   2,   59,    1,    3,   17,    0,    1,  982,    0,   25],\n",
       "       [   6,   31,    5,   36,   13,   28,    8,    8,  842,   32],\n",
       "       [   9,   13,    0,    8,   46,    8,    1,   33,    5,  838]])"
      ]
     },
     "execution_count": 6,
     "metadata": {},
     "output_type": "execute_result"
    }
   ],
   "source": [
    "y_test_pred=grid_clf.predict(X_test)\n",
    "t3=time.time()\n",
    "from sklearn.metrics import confusion_matrix\n",
    "cm_test=confusion_matrix(y_test,y_test_pred)\n",
    "new_cm=(cm_test/cm_test.sum(axis=1,keepdims=True))\n",
    "np.fill_diagonal(new_cm,0)\n",
    "plt.imshow(cm_test,cmap=plt.cm.gray)\n",
    "plt.show()\n",
    "plt.imshow(new_cm,cmap=plt.cm.gray)\n",
    "plt.show()\n",
    "print(time.time()-t3,'s')\n",
    "cm_test"
   ]
  },
  {
   "cell_type": "code",
   "execution_count": 7,
   "metadata": {},
   "outputs": [
    {
     "data": {
      "text/plain": [
       "0.8957"
      ]
     },
     "execution_count": 7,
     "metadata": {},
     "output_type": "execute_result"
    }
   ],
   "source": [
    "sum(y_test_pred==y_test)/len(y_test)"
   ]
  },
  {
   "cell_type": "code",
   "execution_count": null,
   "metadata": {},
   "outputs": [],
   "source": []
  }
 ],
 "metadata": {
  "kernelspec": {
   "display_name": "Python 3",
   "language": "python",
   "name": "python3"
  },
  "language_info": {
   "codemirror_mode": {
    "name": "ipython",
    "version": 3
   },
   "file_extension": ".py",
   "mimetype": "text/x-python",
   "name": "python",
   "nbconvert_exporter": "python",
   "pygments_lexer": "ipython3",
   "version": "3.7.0"
  }
 },
 "nbformat": 4,
 "nbformat_minor": 2
}
