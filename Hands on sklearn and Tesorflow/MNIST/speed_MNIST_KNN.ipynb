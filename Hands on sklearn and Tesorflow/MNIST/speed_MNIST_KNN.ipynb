{
 "cells": [
  {
   "cell_type": "code",
   "execution_count": 1,
   "metadata": {
    "scrolled": true
   },
   "outputs": [
    {
     "name": "stdout",
     "output_type": "stream",
     "text": [
      "done\n"
     ]
    }
   ],
   "source": [
    "import pandas as pd\n",
    "file=pd.read_csv('mnist_train.csv')\n",
    "mnist=dict()\n",
    "mnist['data']=file\n",
    "mnist['target']=file['label']\n",
    "del mnist['data']['label']\n",
    "mnist['data']=mnist['data'].values\n",
    "mnist['target']=mnist['target'].values\n",
    "X,y=mnist['data'],mnist['target']\n",
    "from sklearn.decomposition import PCA\n",
    "pca=PCA(n_components=150)\n",
    "X=pca.fit_transform(X)\n",
    "X_train,y_train,X_test,y_test=X[:50000],y[:50000],X[100:],y[100:]\n",
    "import numpy as np\n",
    "shuffle_index=np.random.permutation(50000)\n",
    "X_train,y_train=X_train[shuffle_index],y_train[shuffle_index]\n",
    "print('done')"
   ]
  },
  {
   "cell_type": "code",
   "execution_count": 2,
   "metadata": {},
   "outputs": [
    {
     "data": {
      "text/plain": [
       "(1000, 150)"
      ]
     },
     "execution_count": 2,
     "metadata": {},
     "output_type": "execute_result"
    }
   ],
   "source": [
    "from sklearn.neighbors import KNeighborsClassifier as kn\n",
    "from matplotlib import pyplot as plt\n",
    "%matplotlib inline\n",
    "knn_clf=kn()\n",
    "X_train=X_train[:1000]\n",
    "y_train=y_train[:1000]\n",
    "X_train.shape"
   ]
  },
  {
   "cell_type": "code",
   "execution_count": 3,
   "metadata": {},
   "outputs": [
    {
     "name": "stdout",
     "output_type": "stream",
     "text": [
      "start!\n",
      "0.011762857437133789 seconds\n"
     ]
    }
   ],
   "source": [
    "kn_clf=kn(weights='distance',n_neighbors=6,p=4)\n",
    "grid_clf=kn_clf\n",
    "print('start!')\n",
    "import time\n",
    "t1=time.time()\n",
    "grid_clf.fit(X_train,y_train)\n",
    "t2=time.time()\n",
    "print(t2-t1,'seconds')"
   ]
  },
  {
   "cell_type": "code",
   "execution_count": 4,
   "metadata": {},
   "outputs": [
    {
     "name": "stdout",
     "output_type": "stream",
     "text": [
      "1 6\n"
     ]
    }
   ],
   "source": [
    "print(y_test[5],y_test[6])"
   ]
  },
  {
   "cell_type": "code",
   "execution_count": 5,
   "metadata": {
    "scrolled": false
   },
   "outputs": [
    {
     "name": "stdout",
     "output_type": "stream",
     "text": [
      "start\n",
      "done\n"
     ]
    },
    {
     "data": {
      "image/png": "[encoded data removed]",
      "text/plain": [
       "<Figure size 432x288 with 1 Axes>"
      ]
     },
     "metadata": {
      "needs_background": "light"
     },
     "output_type": "display_data"
    },
    {
     "data": {
      "image/png": "[encoded data removed]",
      "text/plain": [
       "<Figure size 432x288 with 1 Axes>"
      ]
     },
     "metadata": {
      "needs_background": "light"
     },
     "output_type": "display_data"
    },
    {
     "data": {
      "text/plain": [
       "array([[5618,    4,   15,    4,    9,   82,  121,   13,   19,   25],\n",
       "       [   0, 6655,   21,   11,    9,    6,    5,    8,    6,    7],\n",
       "       [  81,  199, 5092,   50,   70,   27,   73,  194,  103,   63],\n",
       "       [  26,  111,   87, 5290,   11,  124,   45,   99,  225,  102],\n",
       "       [   5,   93,    8,    2, 4950,    6,   78,   21,    4,  664],\n",
       "       [  45,  102,    7,  302,   39, 4388,  170,   18,  196,  149],\n",
       "       [  57,   46,    8,    1,   17,   34, 5730,    3,    9,    2],\n",
       "       [   9,  167,   12,    5,   74,    4,    0, 5766,    6,  212],\n",
       "       [  26,  155,   20,  164,   55,  112,   72,   48, 4997,  194],\n",
       "       [  18,   48,    6,   57,  415,   28,   15,  259,   31, 5061]])"
      ]
     },
     "execution_count": 5,
     "metadata": {},
     "output_type": "execute_result"
    }
   ],
   "source": [
    "print('start')\n",
    "y_test_pred=grid_clf.predict(X_test)\n",
    "print('done')\n",
    "from sklearn.metrics import confusion_matrix\n",
    "cm_test=confusion_matrix(y_test,y_test_pred)\n",
    "new_cm=(cm_test/cm_test.sum(axis=1,keepdims=True))\n",
    "np.fill_diagonal(new_cm,0)\n",
    "plt.imshow(cm_test,cmap=plt.cm.gray)\n",
    "plt.show()\n",
    "plt.imshow(new_cm,cmap=plt.cm.gray)\n",
    "plt.show()\n",
    "cm_test"
   ]
  },
  {
   "cell_type": "code",
   "execution_count": 6,
   "metadata": {},
   "outputs": [
    {
     "data": {
      "text/plain": [
       "0.8939398998330551"
      ]
     },
     "execution_count": 6,
     "metadata": {},
     "output_type": "execute_result"
    }
   ],
   "source": [
    "sum(y_test_pred==y_test)/len(y_test)"
   ]
  },
  {
   "cell_type": "code",
   "execution_count": null,
   "metadata": {},
   "outputs": [],
   "source": []
  }
 ],
 "metadata": {
  "kernelspec": {
   "display_name": "Python 3",
   "language": "python",
   "name": "python3"
  },
  "language_info": {
   "codemirror_mode": {
    "name": "ipython",
    "version": 3
   },
   "file_extension": ".py",
   "mimetype": "text/x-python",
   "name": "python",
   "nbconvert_exporter": "python",
   "pygments_lexer": "ipython3",
   "version": "3.7.0"
  }
 },
 "nbformat": 4,
 "nbformat_minor": 2
}
