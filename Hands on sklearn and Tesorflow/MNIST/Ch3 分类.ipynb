{
 "cells": [
  {
   "cell_type": "code",
   "execution_count": 1,
   "metadata": {},
   "outputs": [
    {
     "name": "stdout",
     "output_type": "stream",
     "text": [
      "(60000, 785)\n",
      "       label  1x1  1x2  1x3  1x4  1x5  1x6  1x7  1x8  1x9  ...    28x19  \\\n",
      "0          5    0    0    0    0    0    0    0    0    0  ...        0   \n",
      "1          0    0    0    0    0    0    0    0    0    0  ...        0   \n",
      "2          4    0    0    0    0    0    0    0    0    0  ...        0   \n",
      "3          1    0    0    0    0    0    0    0    0    0  ...        0   \n",
      "4          9    0    0    0    0    0    0    0    0    0  ...        0   \n",
      "5          2    0    0    0    0    0    0    0    0    0  ...        0   \n",
      "6          1    0    0    0    0    0    0    0    0    0  ...        0   \n",
      "7          3    0    0    0    0    0    0    0    0    0  ...        0   \n",
      "8          1    0    0    0    0    0    0    0    0    0  ...        0   \n",
      "9          4    0    0    0    0    0    0    0    0    0  ...        0   \n",
      "10         3    0    0    0    0    0    0    0    0    0  ...        0   \n",
      "11         5    0    0    0    0    0    0    0    0    0  ...        0   \n",
      "12         3    0    0    0    0    0    0    0    0    0  ...        0   \n",
      "13         6    0    0    0    0    0    0    0    0    0  ...        0   \n",
      "14         1    0    0    0    0    0    0    0    0    0  ...        0   \n",
      "15         7    0    0    0    0    0    0    0    0    0  ...        0   \n",
      "16         2    0    0    0    0    0    0    0    0    0  ...        0   \n",
      "17         8    0    0    0    0    0    0    0    0    0  ...        0   \n",
      "18         6    0    0    0    0    0    0    0    0    0  ...        0   \n",
      "19         9    0    0    0    0    0    0    0    0    0  ...        0   \n",
      "20         4    0    0    0    0    0    0    0    0    0  ...        0   \n",
      "21         0    0    0    0    0    0    0    0    0    0  ...        0   \n",
      "22         9    0    0    0    0    0    0    0    0    0  ...        0   \n",
      "23         1    0    0    0    0    0    0    0    0    0  ...        0   \n",
      "24         1    0    0    0    0    0    0    0    0    0  ...        0   \n",
      "25         2    0    0    0    0    0    0    0    0    0  ...        0   \n",
      "26         4    0    0    0    0    0    0    0    0    0  ...        0   \n",
      "27         3    0    0    0    0    0    0    0    0    0  ...        0   \n",
      "28         2    0    0    0    0    0    0    0    0    0  ...        0   \n",
      "29         7    0    0    0    0    0    0    0    0    0  ...        0   \n",
      "...      ...  ...  ...  ...  ...  ...  ...  ...  ...  ...  ...      ...   \n",
      "59970      2    0    0    0    0    0    0    0    0    0  ...        0   \n",
      "59971      2    0    0    0    0    0    0    0    0    0  ...        0   \n",
      "59972      0    0    0    0    0    0    0    0    0    0  ...        0   \n",
      "59973      9    0    0    0    0    0    0    0    0    0  ...        0   \n",
      "59974      2    0    0    0    0    0    0    0    0    0  ...        0   \n",
      "59975      4    0    0    0    0    0    0    0    0    0  ...        0   \n",
      "59976      6    0    0    0    0    0    0    0    0    0  ...        0   \n",
      "59977      7    0    0    0    0    0    0    0    0    0  ...        0   \n",
      "59978      3    0    0    0    0    0    0    0    0    0  ...        0   \n",
      "59979      1    0    0    0    0    0    0    0    0    0  ...        0   \n",
      "59980      3    0    0    0    0    0    0    0    0    0  ...        0   \n",
      "59981      6    0    0    0    0    0    0    0    0    0  ...        0   \n",
      "59982      6    0    0    0    0    0    0    0    0    0  ...        0   \n",
      "59983      2    0    0    0    0    0    0    0    0    0  ...        0   \n",
      "59984      1    0    0    0    0    0    0    0    0    0  ...        0   \n",
      "59985      2    0    0    0    0    0    0    0    0    0  ...        0   \n",
      "59986      6    0    0    0    0    0    0    0    0    0  ...        0   \n",
      "59987      0    0    0    0    0    0    0    0    0    0  ...        0   \n",
      "59988      7    0    0    0    0    0    0    0    0    0  ...        0   \n",
      "59989      8    0    0    0    0    0    0    0    0    0  ...        0   \n",
      "59990      9    0    0    0    0    0    0    0    0    0  ...        0   \n",
      "59991      2    0    0    0    0    0    0    0    0    0  ...        0   \n",
      "59992      9    0    0    0    0    0    0    0    0    0  ...        0   \n",
      "59993      5    0    0    0    0    0    0    0    0    0  ...        0   \n",
      "59994      1    0    0    0    0    0    0    0    0    0  ...        0   \n",
      "59995      8    0    0    0    0    0    0    0    0    0  ...        0   \n",
      "59996      3    0    0    0    0    0    0    0    0    0  ...        0   \n",
      "59997      5    0    0    0    0    0    0    0    0    0  ...        0   \n",
      "59998      6    0    0    0    0    0    0    0    0    0  ...        0   \n",
      "59999      8    0    0    0    0    0    0    0    0    0  ...        0   \n",
      "\n",
      "       28x20  28x21  28x22  28x23  28x24  28x25  28x26  28x27  28x28  \n",
      "0          0      0      0      0      0      0      0      0      0  \n",
      "1          0      0      0      0      0      0      0      0      0  \n",
      "2          0      0      0      0      0      0      0      0      0  \n",
      "3          0      0      0      0      0      0      0      0      0  \n",
      "4          0      0      0      0      0      0      0      0      0  \n",
      "5          0      0      0      0      0      0      0      0      0  \n",
      "6          0      0      0      0      0      0      0      0      0  \n",
      "7          0      0      0      0      0      0      0      0      0  \n",
      "8          0      0      0      0      0      0      0      0      0  \n",
      "9          0      0      0      0      0      0      0      0      0  \n",
      "10         0      0      0      0      0      0      0      0      0  \n",
      "11         0      0      0      0      0      0      0      0      0  \n",
      "12         0      0      0      0      0      0      0      0      0  \n",
      "13         0      0      0      0      0      0      0      0      0  \n",
      "14         0      0      0      0      0      0      0      0      0  \n",
      "15         0      0      0      0      0      0      0      0      0  \n",
      "16         0      0      0      0      0      0      0      0      0  \n",
      "17         0      0      0      0      0      0      0      0      0  \n",
      "18         0      0      0      0      0      0      0      0      0  \n",
      "19         0      0      0      0      0      0      0      0      0  \n",
      "20         0      0      0      0      0      0      0      0      0  \n",
      "21         0      0      0      0      0      0      0      0      0  \n",
      "22         0      0      0      0      0      0      0      0      0  \n",
      "23         0      0      0      0      0      0      0      0      0  \n",
      "24         0      0      0      0      0      0      0      0      0  \n",
      "25         0      0      0      0      0      0      0      0      0  \n",
      "26         0      0      0      0      0      0      0      0      0  \n",
      "27         0      0      0      0      0      0      0      0      0  \n",
      "28         0      0      0      0      0      0      0      0      0  \n",
      "29         0      0      0      0      0      0      0      0      0  \n",
      "...      ...    ...    ...    ...    ...    ...    ...    ...    ...  \n",
      "59970      0      0      0      0      0      0      0      0      0  \n",
      "59971      0      0      0      0      0      0      0      0      0  \n",
      "59972      0      0      0      0      0      0      0      0      0  \n",
      "59973      0      0      0      0      0      0      0      0      0  \n",
      "59974      0      0      0      0      0      0      0      0      0  \n",
      "59975      0      0      0      0      0      0      0      0      0  \n",
      "59976      0      0      0      0      0      0      0      0      0  \n",
      "59977      0      0      0      0      0      0      0      0      0  \n",
      "59978      0      0      0      0      0      0      0      0      0  \n",
      "59979      0      0      0      0      0      0      0      0      0  \n",
      "59980      0      0      0      0      0      0      0      0      0  \n",
      "59981      0      0      0      0      0      0      0      0      0  \n",
      "59982      0      0      0      0      0      0      0      0      0  \n",
      "59983      0      0      0      0      0      0      0      0      0  \n",
      "59984      0      0      0      0      0      0      0      0      0  \n",
      "59985      0      0      0      0      0      0      0      0      0  \n",
      "59986      0      0      0      0      0      0      0      0      0  \n",
      "59987      0      0      0      0      0      0      0      0      0  \n",
      "59988      0      0      0      0      0      0      0      0      0  \n",
      "59989      0      0      0      0      0      0      0      0      0  \n",
      "59990      0      0      0      0      0      0      0      0      0  \n",
      "59991      0      0      0      0      0      0      0      0      0  \n",
      "59992      0      0      0      0      0      0      0      0      0  \n",
      "59993      0      0      0      0      0      0      0      0      0  \n",
      "59994      0      0      0      0      0      0      0      0      0  \n",
      "59995      0      0      0      0      0      0      0      0      0  \n",
      "59996      0      0      0      0      0      0      0      0      0  \n",
      "59997      0      0      0      0      0      0      0      0      0  \n",
      "59998      0      0      0      0      0      0      0      0      0  \n",
      "59999      0      0      0      0      0      0      0      0      0  \n",
      "\n",
      "[60000 rows x 785 columns]\n"
     ]
    }
   ],
   "source": [
    "import pandas as pd\n",
    "file=pd.read_csv('mnist_train.csv')\n",
    "print(file.shape)\n",
    "print(file)\n"
   ]
  },
  {
   "cell_type": "code",
   "execution_count": 2,
   "metadata": {},
   "outputs": [
    {
     "name": "stdout",
     "output_type": "stream",
     "text": [
      "Index(['label', '1x1', '1x2', '1x3', '1x4', '1x5', '1x6', '1x7', '1x8', '1x9',\n",
      "       ...\n",
      "       '28x19', '28x20', '28x21', '28x22', '28x23', '28x24', '28x25', '28x26',\n",
      "       '28x27', '28x28'],\n",
      "      dtype='object', length=785)\n"
     ]
    }
   ],
   "source": [
    "mnist=dict()\n",
    "print(file.columns)\n",
    "mnist['data']=file\n",
    "#del mnist['data']['label']\n",
    "mnist['target']=file['label']"
   ]
  },
  {
   "cell_type": "code",
   "execution_count": 3,
   "metadata": {},
   "outputs": [],
   "source": [
    "del mnist['data']['label']"
   ]
  },
  {
   "cell_type": "code",
   "execution_count": 4,
   "metadata": {},
   "outputs": [
    {
     "name": "stdout",
     "output_type": "stream",
     "text": [
      "       1x1  1x2  1x3  1x4  1x5  1x6  1x7  1x8  1x9  1x10  ...    28x19  28x20  \\\n",
      "0        0    0    0    0    0    0    0    0    0     0  ...        0      0   \n",
      "1        0    0    0    0    0    0    0    0    0     0  ...        0      0   \n",
      "2        0    0    0    0    0    0    0    0    0     0  ...        0      0   \n",
      "3        0    0    0    0    0    0    0    0    0     0  ...        0      0   \n",
      "4        0    0    0    0    0    0    0    0    0     0  ...        0      0   \n",
      "5        0    0    0    0    0    0    0    0    0     0  ...        0      0   \n",
      "6        0    0    0    0    0    0    0    0    0     0  ...        0      0   \n",
      "7        0    0    0    0    0    0    0    0    0     0  ...        0      0   \n",
      "8        0    0    0    0    0    0    0    0    0     0  ...        0      0   \n",
      "9        0    0    0    0    0    0    0    0    0     0  ...        0      0   \n",
      "10       0    0    0    0    0    0    0    0    0     0  ...        0      0   \n",
      "11       0    0    0    0    0    0    0    0    0     0  ...        0      0   \n",
      "12       0    0    0    0    0    0    0    0    0     0  ...        0      0   \n",
      "13       0    0    0    0    0    0    0    0    0     0  ...        0      0   \n",
      "14       0    0    0    0    0    0    0    0    0     0  ...        0      0   \n",
      "15       0    0    0    0    0    0    0    0    0     0  ...        0      0   \n",
      "16       0    0    0    0    0    0    0    0    0     0  ...        0      0   \n",
      "17       0    0    0    0    0    0    0    0    0     0  ...        0      0   \n",
      "18       0    0    0    0    0    0    0    0    0     0  ...        0      0   \n",
      "19       0    0    0    0    0    0    0    0    0     0  ...        0      0   \n",
      "20       0    0    0    0    0    0    0    0    0     0  ...        0      0   \n",
      "21       0    0    0    0    0    0    0    0    0     0  ...        0      0   \n",
      "22       0    0    0    0    0    0    0    0    0     0  ...        0      0   \n",
      "23       0    0    0    0    0    0    0    0    0     0  ...        0      0   \n",
      "24       0    0    0    0    0    0    0    0    0     0  ...        0      0   \n",
      "25       0    0    0    0    0    0    0    0    0     0  ...        0      0   \n",
      "26       0    0    0    0    0    0    0    0    0     0  ...        0      0   \n",
      "27       0    0    0    0    0    0    0    0    0     0  ...        0      0   \n",
      "28       0    0    0    0    0    0    0    0    0     0  ...        0      0   \n",
      "29       0    0    0    0    0    0    0    0    0     0  ...        0      0   \n",
      "...    ...  ...  ...  ...  ...  ...  ...  ...  ...   ...  ...      ...    ...   \n",
      "59970    0    0    0    0    0    0    0    0    0     0  ...        0      0   \n",
      "59971    0    0    0    0    0    0    0    0    0     0  ...        0      0   \n",
      "59972    0    0    0    0    0    0    0    0    0     0  ...        0      0   \n",
      "59973    0    0    0    0    0    0    0    0    0     0  ...        0      0   \n",
      "59974    0    0    0    0    0    0    0    0    0     0  ...        0      0   \n",
      "59975    0    0    0    0    0    0    0    0    0     0  ...        0      0   \n",
      "59976    0    0    0    0    0    0    0    0    0     0  ...        0      0   \n",
      "59977    0    0    0    0    0    0    0    0    0     0  ...        0      0   \n",
      "59978    0    0    0    0    0    0    0    0    0     0  ...        0      0   \n",
      "59979    0    0    0    0    0    0    0    0    0     0  ...        0      0   \n",
      "59980    0    0    0    0    0    0    0    0    0     0  ...        0      0   \n",
      "59981    0    0    0    0    0    0    0    0    0     0  ...        0      0   \n",
      "59982    0    0    0    0    0    0    0    0    0     0  ...        0      0   \n",
      "59983    0    0    0    0    0    0    0    0    0     0  ...        0      0   \n",
      "59984    0    0    0    0    0    0    0    0    0     0  ...        0      0   \n",
      "59985    0    0    0    0    0    0    0    0    0     0  ...        0      0   \n",
      "59986    0    0    0    0    0    0    0    0    0     0  ...        0      0   \n",
      "59987    0    0    0    0    0    0    0    0    0     0  ...        0      0   \n",
      "59988    0    0    0    0    0    0    0    0    0     0  ...        0      0   \n",
      "59989    0    0    0    0    0    0    0    0    0     0  ...        0      0   \n",
      "59990    0    0    0    0    0    0    0    0    0     0  ...        0      0   \n",
      "59991    0    0    0    0    0    0    0    0    0     0  ...        0      0   \n",
      "59992    0    0    0    0    0    0    0    0    0     0  ...        0      0   \n",
      "59993    0    0    0    0    0    0    0    0    0     0  ...        0      0   \n",
      "59994    0    0    0    0    0    0    0    0    0     0  ...        0      0   \n",
      "59995    0    0    0    0    0    0    0    0    0     0  ...        0      0   \n",
      "59996    0    0    0    0    0    0    0    0    0     0  ...        0      0   \n",
      "59997    0    0    0    0    0    0    0    0    0     0  ...        0      0   \n",
      "59998    0    0    0    0    0    0    0    0    0     0  ...        0      0   \n",
      "59999    0    0    0    0    0    0    0    0    0     0  ...        0      0   \n",
      "\n",
      "       28x21  28x22  28x23  28x24  28x25  28x26  28x27  28x28  \n",
      "0          0      0      0      0      0      0      0      0  \n",
      "1          0      0      0      0      0      0      0      0  \n",
      "2          0      0      0      0      0      0      0      0  \n",
      "3          0      0      0      0      0      0      0      0  \n",
      "4          0      0      0      0      0      0      0      0  \n",
      "5          0      0      0      0      0      0      0      0  \n",
      "6          0      0      0      0      0      0      0      0  \n",
      "7          0      0      0      0      0      0      0      0  \n",
      "8          0      0      0      0      0      0      0      0  \n",
      "9          0      0      0      0      0      0      0      0  \n",
      "10         0      0      0      0      0      0      0      0  \n",
      "11         0      0      0      0      0      0      0      0  \n",
      "12         0      0      0      0      0      0      0      0  \n",
      "13         0      0      0      0      0      0      0      0  \n",
      "14         0      0      0      0      0      0      0      0  \n",
      "15         0      0      0      0      0      0      0      0  \n",
      "16         0      0      0      0      0      0      0      0  \n",
      "17         0      0      0      0      0      0      0      0  \n",
      "18         0      0      0      0      0      0      0      0  \n",
      "19         0      0      0      0      0      0      0      0  \n",
      "20         0      0      0      0      0      0      0      0  \n",
      "21         0      0      0      0      0      0      0      0  \n",
      "22         0      0      0      0      0      0      0      0  \n",
      "23         0      0      0      0      0      0      0      0  \n",
      "24         0      0      0      0      0      0      0      0  \n",
      "25         0      0      0      0      0      0      0      0  \n",
      "26         0      0      0      0      0      0      0      0  \n",
      "27         0      0      0      0      0      0      0      0  \n",
      "28         0      0      0      0      0      0      0      0  \n",
      "29         0      0      0      0      0      0      0      0  \n",
      "...      ...    ...    ...    ...    ...    ...    ...    ...  \n",
      "59970      0      0      0      0      0      0      0      0  \n",
      "59971      0      0      0      0      0      0      0      0  \n",
      "59972      0      0      0      0      0      0      0      0  \n",
      "59973      0      0      0      0      0      0      0      0  \n",
      "59974      0      0      0      0      0      0      0      0  \n",
      "59975      0      0      0      0      0      0      0      0  \n",
      "59976      0      0      0      0      0      0      0      0  \n",
      "59977      0      0      0      0      0      0      0      0  \n",
      "59978      0      0      0      0      0      0      0      0  \n",
      "59979      0      0      0      0      0      0      0      0  \n",
      "59980      0      0      0      0      0      0      0      0  \n",
      "59981      0      0      0      0      0      0      0      0  \n",
      "59982      0      0      0      0      0      0      0      0  \n",
      "59983      0      0      0      0      0      0      0      0  \n",
      "59984      0      0      0      0      0      0      0      0  \n",
      "59985      0      0      0      0      0      0      0      0  \n",
      "59986      0      0      0      0      0      0      0      0  \n",
      "59987      0      0      0      0      0      0      0      0  \n",
      "59988      0      0      0      0      0      0      0      0  \n",
      "59989      0      0      0      0      0      0      0      0  \n",
      "59990      0      0      0      0      0      0      0      0  \n",
      "59991      0      0      0      0      0      0      0      0  \n",
      "59992      0      0      0      0      0      0      0      0  \n",
      "59993      0      0      0      0      0      0      0      0  \n",
      "59994      0      0      0      0      0      0      0      0  \n",
      "59995      0      0      0      0      0      0      0      0  \n",
      "59996      0      0      0      0      0      0      0      0  \n",
      "59997      0      0      0      0      0      0      0      0  \n",
      "59998      0      0      0      0      0      0      0      0  \n",
      "59999      0      0      0      0      0      0      0      0  \n",
      "\n",
      "[60000 rows x 784 columns]\n"
     ]
    }
   ],
   "source": [
    "print(mnist['data'])"
   ]
  },
  {
   "cell_type": "code",
   "execution_count": 5,
   "metadata": {},
   "outputs": [],
   "source": [
    "mnist['data']=mnist['data'].values\n",
    "mnist['target']=mnist['target'].values"
   ]
  },
  {
   "cell_type": "code",
   "execution_count": 6,
   "metadata": {},
   "outputs": [
    {
     "name": "stdout",
     "output_type": "stream",
     "text": [
      "{'data': array([[0, 0, 0, ..., 0, 0, 0],\n",
      "       [0, 0, 0, ..., 0, 0, 0],\n",
      "       [0, 0, 0, ..., 0, 0, 0],\n",
      "       ...,\n",
      "       [0, 0, 0, ..., 0, 0, 0],\n",
      "       [0, 0, 0, ..., 0, 0, 0],\n",
      "       [0, 0, 0, ..., 0, 0, 0]]), 'target': array([5, 0, 4, ..., 5, 6, 8])}\n"
     ]
    }
   ],
   "source": [
    "print(mnist)"
   ]
  },
  {
   "cell_type": "code",
   "execution_count": 7,
   "metadata": {},
   "outputs": [],
   "source": [
    "X,y=mnist['data'],mnist['target']"
   ]
  },
  {
   "cell_type": "code",
   "execution_count": 8,
   "metadata": {},
   "outputs": [
    {
     "data": {
      "text/plain": [
       "(60000, 784)"
      ]
     },
     "execution_count": 8,
     "metadata": {},
     "output_type": "execute_result"
    }
   ],
   "source": [
    "X.shape"
   ]
  },
  {
   "cell_type": "code",
   "execution_count": 9,
   "metadata": {},
   "outputs": [
    {
     "data": {
      "text/plain": [
       "(60000,)"
      ]
     },
     "execution_count": 9,
     "metadata": {},
     "output_type": "execute_result"
    }
   ],
   "source": [
    "y.shape"
   ]
  },
  {
   "cell_type": "code",
   "execution_count": 10,
   "metadata": {},
   "outputs": [
    {
     "data": {
      "image/png": "[encoded data removed]",
      "text/plain": [
       "<Figure size 432x288 with 1 Axes>"
      ]
     },
     "metadata": {
      "needs_background": "light"
     },
     "output_type": "display_data"
    }
   ],
   "source": [
    "%matplotlib inline\n",
    "import matplotlib.pyplot as plt\n",
    "import matplotlib\n",
    "single=X[1288]\n",
    "single=single.reshape(28,28)\n",
    "plt.imshow(single, cmap = matplotlib.cm.binary, interpolation=\"nearest\")\n",
    "plt.axis('off')\n",
    "plt.show()"
   ]
  },
  {
   "cell_type": "code",
   "execution_count": 11,
   "metadata": {},
   "outputs": [
    {
     "data": {
      "text/plain": [
       "5"
      ]
     },
     "execution_count": 11,
     "metadata": {},
     "output_type": "execute_result"
    }
   ],
   "source": [
    "y[1288]"
   ]
  },
  {
   "cell_type": "code",
   "execution_count": 12,
   "metadata": {},
   "outputs": [],
   "source": [
    "X_train,y_train,X_test,y_test=X[:50000],y[:50000],X[50000:],y[:50000]\n",
    "import numpy as np\n",
    "shuffle_index=np.random.permutation(50000)\n",
    "X_train,y_train=X_train[shuffle_index],y_train[shuffle_index]"
   ]
  },
  {
   "cell_type": "code",
   "execution_count": 13,
   "metadata": {},
   "outputs": [],
   "source": [
    "y_train_5=(y_train==5)\n",
    "y_test_5=(y_test==5)"
   ]
  },
  {
   "cell_type": "code",
   "execution_count": 14,
   "metadata": {},
   "outputs": [
    {
     "name": "stderr",
     "output_type": "stream",
     "text": [
      "/Library/Frameworks/Python.framework/Versions/3.7/lib/python3.7/site-packages/sklearn/linear_model/stochastic_gradient.py:144: FutureWarning: max_iter and tol parameters have been added in SGDClassifier in 0.19. If both are left unset, they default to max_iter=5 and tol=None. If tol is not None, max_iter defaults to max_iter=1000. From 0.21, default max_iter will be 1000, and default tol will be 1e-3.\n",
      "  FutureWarning)\n"
     ]
    },
    {
     "data": {
      "text/plain": [
       "SGDClassifier(alpha=0.0001, average=False, class_weight=None,\n",
       "       early_stopping=False, epsilon=0.1, eta0=0.0, fit_intercept=True,\n",
       "       l1_ratio=0.15, learning_rate='optimal', loss='hinge', max_iter=None,\n",
       "       n_iter=None, n_iter_no_change=5, n_jobs=None, penalty='l2',\n",
       "       power_t=0.5, random_state=42, shuffle=True, tol=None,\n",
       "       validation_fraction=0.1, verbose=0, warm_start=False)"
      ]
     },
     "execution_count": 14,
     "metadata": {},
     "output_type": "execute_result"
    }
   ],
   "source": [
    "from sklearn.linear_model import SGDClassifier as sgd\n",
    "sgd_clf=sgd(random_state=42)\n",
    "sgd_clf.fit(X_train,y_train_5)"
   ]
  },
  {
   "cell_type": "code",
   "execution_count": 15,
   "metadata": {},
   "outputs": [],
   "source": [
    "pre_5=sgd_clf.predict(X_test)"
   ]
  },
  {
   "cell_type": "code",
   "execution_count": 16,
   "metadata": {},
   "outputs": [
    {
     "data": {
      "text/plain": [
       "array([ True])"
      ]
     },
     "execution_count": 16,
     "metadata": {},
     "output_type": "execute_result"
    }
   ],
   "source": [
    "sgd_clf.predict([X_train[1288]])"
   ]
  },
  {
   "cell_type": "code",
   "execution_count": 17,
   "metadata": {},
   "outputs": [
    {
     "data": {
      "text/plain": [
       "5"
      ]
     },
     "execution_count": 17,
     "metadata": {},
     "output_type": "execute_result"
    }
   ],
   "source": [
    "y_train[1288]"
   ]
  },
  {
   "cell_type": "code",
   "execution_count": 18,
   "metadata": {},
   "outputs": [
    {
     "name": "stderr",
     "output_type": "stream",
     "text": [
      "/Library/Frameworks/Python.framework/Versions/3.7/lib/python3.7/site-packages/sklearn/linear_model/stochastic_gradient.py:144: FutureWarning: max_iter and tol parameters have been added in SGDClassifier in 0.19. If both are left unset, they default to max_iter=5 and tol=None. If tol is not None, max_iter defaults to max_iter=1000. From 0.21, default max_iter will be 1000, and default tol will be 1e-3.\n",
      "  FutureWarning)\n"
     ]
    },
    {
     "name": "stdout",
     "output_type": "stream",
     "text": [
      "0.9674206515869682\n"
     ]
    },
    {
     "name": "stderr",
     "output_type": "stream",
     "text": [
      "/Library/Frameworks/Python.framework/Versions/3.7/lib/python3.7/site-packages/sklearn/linear_model/stochastic_gradient.py:144: FutureWarning: max_iter and tol parameters have been added in SGDClassifier in 0.19. If both are left unset, they default to max_iter=5 and tol=None. If tol is not None, max_iter defaults to max_iter=1000. From 0.21, default max_iter will be 1000, and default tol will be 1e-3.\n",
      "  FutureWarning)\n"
     ]
    },
    {
     "name": "stdout",
     "output_type": "stream",
     "text": [
      "0.9560808783824324\n"
     ]
    },
    {
     "name": "stderr",
     "output_type": "stream",
     "text": [
      "/Library/Frameworks/Python.framework/Versions/3.7/lib/python3.7/site-packages/sklearn/linear_model/stochastic_gradient.py:144: FutureWarning: max_iter and tol parameters have been added in SGDClassifier in 0.19. If both are left unset, they default to max_iter=5 and tol=None. If tol is not None, max_iter defaults to max_iter=1000. From 0.21, default max_iter will be 1000, and default tol will be 1e-3.\n",
      "  FutureWarning)\n"
     ]
    },
    {
     "name": "stdout",
     "output_type": "stream",
     "text": [
      "0.9488779551182047\n"
     ]
    }
   ],
   "source": [
    "from sklearn.model_selection import StratifiedKFold\n",
    "from sklearn.base import clone\n",
    "ksfolds=StratifiedKFold(n_splits=3,random_state=42)\n",
    "for train_index,test_index in ksfolds.split(X_train,y_train_5):\n",
    "    clone_clf=clone(sgd_clf)\n",
    "    X_folds=X_train[train_index]\n",
    "    y_folds=y_train_5[train_index]\n",
    "    X_test_fold=X_train[test_index]\n",
    "    y_test_fold=y_train_5[test_index]\n",
    "    clone_clf.fit(X_folds,y_folds)\n",
    "    pre_5=clone_clf.predict(X_test_fold)\n",
    "    n_correct=sum(pre_5==y_test_fold)\n",
    "    print(n_correct/len(pre_5))"
   ]
  },
  {
   "cell_type": "code",
   "execution_count": null,
   "metadata": {},
   "outputs": [
    {
     "name": "stderr",
     "output_type": "stream",
     "text": [
      "/Library/Frameworks/Python.framework/Versions/3.7/lib/python3.7/site-packages/sklearn/linear_model/stochastic_gradient.py:144: FutureWarning: max_iter and tol parameters have been added in SGDClassifier in 0.19. If both are left unset, they default to max_iter=5 and tol=None. If tol is not None, max_iter defaults to max_iter=1000. From 0.21, default max_iter will be 1000, and default tol will be 1e-3.\n",
      "  FutureWarning)\n",
      "/Library/Frameworks/Python.framework/Versions/3.7/lib/python3.7/site-packages/sklearn/linear_model/stochastic_gradient.py:144: FutureWarning: max_iter and tol parameters have been added in SGDClassifier in 0.19. If both are left unset, they default to max_iter=5 and tol=None. If tol is not None, max_iter defaults to max_iter=1000. From 0.21, default max_iter will be 1000, and default tol will be 1e-3.\n",
      "  FutureWarning)\n",
      "/Library/Frameworks/Python.framework/Versions/3.7/lib/python3.7/site-packages/sklearn/linear_model/stochastic_gradient.py:144: FutureWarning: max_iter and tol parameters have been added in SGDClassifier in 0.19. If both are left unset, they default to max_iter=5 and tol=None. If tol is not None, max_iter defaults to max_iter=1000. From 0.21, default max_iter will be 1000, and default tol will be 1e-3.\n",
      "  FutureWarning)\n"
     ]
    },
    {
     "name": "stdout",
     "output_type": "stream",
     "text": [
      "[0.96742065 0.95608088 0.94887796]\n"
     ]
    }
   ],
   "source": [
    "from sklearn.model_selection import cross_val_score\n",
    "print(cross_val_score(sgd_clf,X_train,y_train_5,cv=3))"
   ]
  },
  {
   "cell_type": "code",
   "execution_count": null,
   "metadata": {},
   "outputs": [
    {
     "name": "stderr",
     "output_type": "stream",
     "text": [
      "/Library/Frameworks/Python.framework/Versions/3.7/lib/python3.7/site-packages/sklearn/linear_model/stochastic_gradient.py:144: FutureWarning: max_iter and tol parameters have been added in SGDClassifier in 0.19. If both are left unset, they default to max_iter=5 and tol=None. If tol is not None, max_iter defaults to max_iter=1000. From 0.21, default max_iter will be 1000, and default tol will be 1e-3.\n",
      "  FutureWarning)\n",
      "/Library/Frameworks/Python.framework/Versions/3.7/lib/python3.7/site-packages/sklearn/linear_model/stochastic_gradient.py:144: FutureWarning: max_iter and tol parameters have been added in SGDClassifier in 0.19. If both are left unset, they default to max_iter=5 and tol=None. If tol is not None, max_iter defaults to max_iter=1000. From 0.21, default max_iter will be 1000, and default tol will be 1e-3.\n",
      "  FutureWarning)\n",
      "/Library/Frameworks/Python.framework/Versions/3.7/lib/python3.7/site-packages/sklearn/linear_model/stochastic_gradient.py:144: FutureWarning: max_iter and tol parameters have been added in SGDClassifier in 0.19. If both are left unset, they default to max_iter=5 and tol=None. If tol is not None, max_iter defaults to max_iter=1000. From 0.21, default max_iter will be 1000, and default tol will be 1e-3.\n",
      "  FutureWarning)\n"
     ]
    },
    {
     "data": {
      "text/plain": [
       "array([[44683,   811],\n",
       "       [ 1316,  3190]])"
      ]
     },
     "execution_count": 20,
     "metadata": {},
     "output_type": "execute_result"
    }
   ],
   "source": [
    "from sklearn.model_selection import cross_val_predict\n",
    "y_pred=cross_val_predict(sgd_clf,X_train,y_train_5,cv=3)\n",
    "from sklearn.metrics import confusion_matrix\n",
    "confusion_matrix(y_train_5,y_pred)"
   ]
  },
  {
   "cell_type": "code",
   "execution_count": null,
   "metadata": {},
   "outputs": [
    {
     "name": "stdout",
     "output_type": "stream",
     "text": [
      "0.7973006748312922\n"
     ]
    },
    {
     "data": {
      "text/plain": [
       "0.7079449622725256"
      ]
     },
     "execution_count": 21,
     "metadata": {},
     "output_type": "execute_result"
    }
   ],
   "source": [
    "from sklearn.metrics import precision_score,recall_score,f1_score\n",
    "\n",
    "print(precision_score(y_train_5,y_pred))#precision score\n",
    "\n",
    "recall_score(y_train_5,y_pred)#recall score"
   ]
  },
  {
   "cell_type": "code",
   "execution_count": null,
   "metadata": {},
   "outputs": [
    {
     "data": {
      "text/plain": [
       "0.7499706124368168"
      ]
     },
     "execution_count": 22,
     "metadata": {},
     "output_type": "execute_result"
    }
   ],
   "source": [
    "f1_score(y_train_5,y_pred)"
   ]
  },
  {
   "cell_type": "code",
   "execution_count": null,
   "metadata": {},
   "outputs": [
    {
     "name": "stdout",
     "output_type": "stream",
     "text": [
      "precision score 0.8885161290322581\n",
      "recall score 0.764092321349312\n"
     ]
    }
   ],
   "source": [
    "threshold=0\n",
    "y_pred=(sgd_clf.decision_function(X_train)>threshold)\n",
    "print('precision score',precision_score(y_train_5,y_pred))#precision score\n",
    "print('recall score',recall_score(y_train_5,y_pred))#recall score"
   ]
  },
  {
   "cell_type": "code",
   "execution_count": null,
   "metadata": {},
   "outputs": [
    {
     "name": "stdout",
     "output_type": "stream",
     "text": [
      "precision score 0.6594014313597918\n",
      "recall score 0.8996893031513538\n"
     ]
    }
   ],
   "source": [
    "threshold=-100000\n",
    "y_pred=(sgd_clf.decision_function(X_train)>threshold)\n",
    "print('precision score',precision_score(y_train_5,y_pred))#precision score\n",
    "print('recall score',recall_score(y_train_5,y_pred))#recall score"
   ]
  },
  {
   "cell_type": "code",
   "execution_count": null,
   "metadata": {},
   "outputs": [
    {
     "name": "stdout",
     "output_type": "stream",
     "text": [
      "precision score 0.9679122664500406\n",
      "recall score 0.5288504216600088\n"
     ]
    }
   ],
   "source": [
    "threshold=100000\n",
    "y_pred=(sgd_clf.decision_function(X_train)>threshold)\n",
    "print('precision score',precision_score(y_train_5,y_pred))#precision score\n",
    "print('recall score',recall_score(y_train_5,y_pred))#recall score"
   ]
  },
  {
   "cell_type": "code",
   "execution_count": null,
   "metadata": {},
   "outputs": [
    {
     "name": "stderr",
     "output_type": "stream",
     "text": [
      "/Library/Frameworks/Python.framework/Versions/3.7/lib/python3.7/site-packages/sklearn/linear_model/stochastic_gradient.py:144: FutureWarning: max_iter and tol parameters have been added in SGDClassifier in 0.19. If both are left unset, they default to max_iter=5 and tol=None. If tol is not None, max_iter defaults to max_iter=1000. From 0.21, default max_iter will be 1000, and default tol will be 1e-3.\n",
      "  FutureWarning)\n",
      "/Library/Frameworks/Python.framework/Versions/3.7/lib/python3.7/site-packages/sklearn/linear_model/stochastic_gradient.py:144: FutureWarning: max_iter and tol parameters have been added in SGDClassifier in 0.19. If both are left unset, they default to max_iter=5 and tol=None. If tol is not None, max_iter defaults to max_iter=1000. From 0.21, default max_iter will be 1000, and default tol will be 1e-3.\n",
      "  FutureWarning)\n",
      "/Library/Frameworks/Python.framework/Versions/3.7/lib/python3.7/site-packages/sklearn/linear_model/stochastic_gradient.py:144: FutureWarning: max_iter and tol parameters have been added in SGDClassifier in 0.19. If both are left unset, they default to max_iter=5 and tol=None. If tol is not None, max_iter defaults to max_iter=1000. From 0.21, default max_iter will be 1000, and default tol will be 1e-3.\n",
      "  FutureWarning)\n"
     ]
    },
    {
     "data": {
      "text/plain": [
       "array([-933887.85726544, -553789.32687132, -786701.99745058, ...,\n",
       "       -980293.22297624, -719108.26928773, -466014.43560351])"
      ]
     },
     "execution_count": 26,
     "metadata": {},
     "output_type": "execute_result"
    }
   ],
   "source": [
    "y_scores=cross_val_predict(sgd_clf,X_train,y_train_5,cv=3,method='decision_function')\n",
    "y_scores"
   ]
  },
  {
   "cell_type": "code",
   "execution_count": null,
   "metadata": {},
   "outputs": [],
   "source": [
    "from sklearn.metrics import precision_recall_curve\n",
    "precisions,recalls,thresholds=precision_recall_curve(y_train_5,y_scores)"
   ]
  },
  {
   "cell_type": "code",
   "execution_count": null,
   "metadata": {},
   "outputs": [
    {
     "data": {
      "text/plain": [
       "array([0.09058015, 0.09056187, 0.09056369, ..., 1.        , 1.        ,\n",
       "       1.        ])"
      ]
     },
     "execution_count": 28,
     "metadata": {},
     "output_type": "execute_result"
    }
   ],
   "source": [
    "precisions"
   ]
  },
  {
   "cell_type": "code",
   "execution_count": null,
   "metadata": {},
   "outputs": [
    {
     "data": {
      "image/png": "[encoded data removed]",
      "text/plain": [
       "<Figure size 432x288 with 1 Axes>"
      ]
     },
     "metadata": {
      "needs_background": "light"
     },
     "output_type": "display_data"
    }
   ],
   "source": [
    "def plot_precision_recall_vs_threshold(precisions, recalls, thresholds):\n",
    "    plt.plot(thresholds, precisions[:-1], \"b--\", label=\"Precision\")\n",
    "    plt.plot(thresholds, recalls[:-1], \"g-\", label=\"Recall\")\n",
    "    plt.xlabel=\"Threshold\"\n",
    "    plt.legend(loc=\"upper left\")\n",
    "    plt.ylim([0, 1])\n",
    "plot_precision_recall_vs_threshold(precisions, recalls, thresholds)\n",
    "plt.show()"
   ]
  },
  {
   "cell_type": "code",
   "execution_count": null,
   "metadata": {},
   "outputs": [
    {
     "data": {
      "image/png": "[encoded data removed]",
      "text/plain": [
       "<Figure size 432x288 with 1 Axes>"
      ]
     },
     "metadata": {
      "needs_background": "light"
     },
     "output_type": "display_data"
    }
   ],
   "source": [
    "from sklearn.metrics import roc_curve\n",
    "fpr,tpr,thresholds=roc_curve(y_train_5,y_scores)\n",
    "def plot_precision_recall_vs_threshold(fpr,tpr, label=None):\n",
    "    plt.plot(fpr,tpr,linewidth=2,label=label)\n",
    "    plt.plot([0,1],[0,1],'k--')\n",
    "    plt.axis([0,1,0,1])\n",
    "    plt.xlabel=('False Positive Rate')\n",
    "    plt.ylabel=('True Positive Rate')\n",
    "plot_precision_recall_vs_threshold(fpr,tpr)\n",
    "plt.show()"
   ]
  },
  {
   "cell_type": "code",
   "execution_count": null,
   "metadata": {},
   "outputs": [
    {
     "data": {
      "text/plain": [
       "0.9504652394034451"
      ]
     },
     "execution_count": 31,
     "metadata": {},
     "output_type": "execute_result"
    }
   ],
   "source": [
    "from sklearn.metrics import roc_auc_score\n",
    "\n",
    "roc_auc_score(y_train_5,y_scores)"
   ]
  },
  {
   "cell_type": "code",
   "execution_count": null,
   "metadata": {},
   "outputs": [
    {
     "name": "stderr",
     "output_type": "stream",
     "text": [
      "/Library/Frameworks/Python.framework/Versions/3.7/lib/python3.7/site-packages/sklearn/linear_model/stochastic_gradient.py:144: FutureWarning: max_iter and tol parameters have been added in SGDClassifier in 0.19. If both are left unset, they default to max_iter=5 and tol=None. If tol is not None, max_iter defaults to max_iter=1000. From 0.21, default max_iter will be 1000, and default tol will be 1e-3.\n",
      "  FutureWarning)\n",
      "/Library/Frameworks/Python.framework/Versions/3.7/lib/python3.7/site-packages/sklearn/linear_model/stochastic_gradient.py:144: FutureWarning: max_iter and tol parameters have been added in SGDClassifier in 0.19. If both are left unset, they default to max_iter=5 and tol=None. If tol is not None, max_iter defaults to max_iter=1000. From 0.21, default max_iter will be 1000, and default tol will be 1e-3.\n",
      "  FutureWarning)\n",
      "/Library/Frameworks/Python.framework/Versions/3.7/lib/python3.7/site-packages/sklearn/linear_model/stochastic_gradient.py:144: FutureWarning: max_iter and tol parameters have been added in SGDClassifier in 0.19. If both are left unset, they default to max_iter=5 and tol=None. If tol is not None, max_iter defaults to max_iter=1000. From 0.21, default max_iter will be 1000, and default tol will be 1e-3.\n",
      "  FutureWarning)\n"
     ]
    },
    {
     "data": {
      "text/plain": [
       "array([0.80946667, 0.87592248, 0.86953913])"
      ]
     },
     "execution_count": 32,
     "metadata": {},
     "output_type": "execute_result"
    }
   ],
   "source": [
    "from sklearn.linear_model import SGDClassifier\n",
    "clf=SGDClassifier()\n",
    "\n",
    "from sklearn.model_selection import cross_val_score\n",
    "cross_val_score(clf,X_train,y_train,cv=3)"
   ]
  },
  {
   "cell_type": "code",
   "execution_count": null,
   "metadata": {},
   "outputs": [
    {
     "name": "stderr",
     "output_type": "stream",
     "text": [
      "/Library/Frameworks/Python.framework/Versions/3.7/lib/python3.7/site-packages/sklearn/linear_model/stochastic_gradient.py:144: FutureWarning: max_iter and tol parameters have been added in SGDClassifier in 0.19. If both are left unset, they default to max_iter=5 and tol=None. If tol is not None, max_iter defaults to max_iter=1000. From 0.21, default max_iter will be 1000, and default tol will be 1e-3.\n",
      "  FutureWarning)\n"
     ]
    },
    {
     "data": {
      "text/plain": [
       "array([[-1051103.71593394,  -856751.18358505,  -163019.67668273, ...,\n",
       "         -869583.55987575,  -714451.72880132,  -598724.35641675],\n",
       "       [ -834158.42929935,  -644783.72554738,   662346.95824405, ...,\n",
       "        -1087214.70581656,  -318845.57100788,  -651163.68884437],\n",
       "       [ -676250.90775544, -1250258.12982784,  -687777.82312952, ...,\n",
       "          421868.23873693,  -799246.5287806 ,  -485192.11126838],\n",
       "       ...,\n",
       "       [-1015534.84912571,  -205433.32972908,     5320.63543004, ...,\n",
       "        -1194719.4767519 ,  -716711.93700932, -1508127.70065314],\n",
       "       [ -936236.36586483,  -785703.21128238,   -19271.09601112, ...,\n",
       "         -627687.25750006,  -564583.08390633,  -459525.75403189],\n",
       "       [-1060893.99398286,   182970.13004563,  -149875.08248117, ...,\n",
       "         -262858.03507289,  -183804.31586345,  -301604.5670949 ]])"
      ]
     },
     "execution_count": 33,
     "metadata": {},
     "output_type": "execute_result"
    }
   ],
   "source": [
    "clf.fit(X_train,y_train)\n",
    "clf.decision_function(X_train)"
   ]
  },
  {
   "cell_type": "code",
   "execution_count": null,
   "metadata": {},
   "outputs": [
    {
     "name": "stderr",
     "output_type": "stream",
     "text": [
      "/Library/Frameworks/Python.framework/Versions/3.7/lib/python3.7/site-packages/sklearn/ensemble/forest.py:248: FutureWarning: The default value of n_estimators will change from 10 in version 0.20 to 100 in 0.22.\n",
      "  \"10 in version 0.20 to 100 in 0.22.\", FutureWarning)\n"
     ]
    }
   ],
   "source": [
    "from sklearn.ensemble import RandomForestClassifier as rand\n",
    "forest_clf=rand()\n",
    "forest_clf.fit(X_train,y_train)\n",
    "y_pred=forest_clf.predict(X_train)"
   ]
  },
  {
   "cell_type": "code",
   "execution_count": null,
   "metadata": {},
   "outputs": [
    {
     "data": {
      "text/plain": [
       "array([6, 2, 7, ..., 3, 6, 1])"
      ]
     },
     "execution_count": 35,
     "metadata": {},
     "output_type": "execute_result"
    }
   ],
   "source": [
    "y_pred"
   ]
  },
  {
   "cell_type": "code",
   "execution_count": null,
   "metadata": {},
   "outputs": [
    {
     "data": {
      "text/plain": [
       "array([0.935749  , 0.93682126, 0.93680989])"
      ]
     },
     "execution_count": 36,
     "metadata": {},
     "output_type": "execute_result"
    }
   ],
   "source": [
    "cross_val_score(forest_clf,X_train,y_train,cv=3)"
   ]
  },
  {
   "cell_type": "code",
   "execution_count": null,
   "metadata": {},
   "outputs": [
    {
     "name": "stderr",
     "output_type": "stream",
     "text": [
      "/Library/Frameworks/Python.framework/Versions/3.7/lib/python3.7/site-packages/sklearn/linear_model/stochastic_gradient.py:144: FutureWarning: max_iter and tol parameters have been added in SGDClassifier in 0.19. If both are left unset, they default to max_iter=5 and tol=None. If tol is not None, max_iter defaults to max_iter=1000. From 0.21, default max_iter will be 1000, and default tol will be 1e-3.\n",
      "  FutureWarning)\n",
      "/Library/Frameworks/Python.framework/Versions/3.7/lib/python3.7/site-packages/sklearn/linear_model/stochastic_gradient.py:144: FutureWarning: max_iter and tol parameters have been added in SGDClassifier in 0.19. If both are left unset, they default to max_iter=5 and tol=None. If tol is not None, max_iter defaults to max_iter=1000. From 0.21, default max_iter will be 1000, and default tol will be 1e-3.\n",
      "  FutureWarning)\n",
      "/Library/Frameworks/Python.framework/Versions/3.7/lib/python3.7/site-packages/sklearn/linear_model/stochastic_gradient.py:144: FutureWarning: max_iter and tol parameters have been added in SGDClassifier in 0.19. If both are left unset, they default to max_iter=5 and tol=None. If tol is not None, max_iter defaults to max_iter=1000. From 0.21, default max_iter will be 1000, and default tol will be 1e-3.\n",
      "  FutureWarning)\n"
     ]
    },
    {
     "data": {
      "text/plain": [
       "array([0.90533325, 0.90814184, 0.90890542])"
      ]
     },
     "execution_count": 37,
     "metadata": {},
     "output_type": "execute_result"
    }
   ],
   "source": [
    "from sklearn.preprocessing import StandardScaler\n",
    "standard=StandardScaler()\n",
    "X_train_scaled=standard.fit_transform(X_train.astype(np.float64))\n",
    "clf=SGDClassifier()\n",
    "\n",
    "from sklearn.model_selection import cross_val_score\n",
    "cross_val_score(clf,X_train_scaled,y_train,cv=3)"
   ]
  },
  {
   "cell_type": "code",
   "execution_count": null,
   "metadata": {},
   "outputs": [
    {
     "data": {
      "text/plain": [
       "\"\\nfrom sklearn.model_selection import GridSearchCV as grid\\nparam_grid=[{'alpha':[0.0001,0.001,0.01],'epsilon':[0.2,0.1]}]\\ngrid_search=grid(clf,param_grid,cv=4,scoring='neg_mean_squared_error')\\ngrid_search.fit(X_train,y_train)\\n\""
      ]
     },
     "execution_count": 38,
     "metadata": {},
     "output_type": "execute_result"
    }
   ],
   "source": [
    "'''\n",
    "from sklearn.model_selection import GridSearchCV as grid\n",
    "param_grid=[{'alpha':[0.0001,0.001,0.01],'epsilon':[0.2,0.1]}]\n",
    "grid_search=grid(clf,param_grid,cv=4,scoring='neg_mean_squared_error')\n",
    "grid_search.fit(X_train,y_train)\n",
    "'''"
   ]
  },
  {
   "cell_type": "code",
   "execution_count": null,
   "metadata": {},
   "outputs": [
    {
     "data": {
      "text/plain": [
       "'\\nprint(grid_search.best_params_)\\nprint(grid_search.cv_results_)\\n'"
      ]
     },
     "execution_count": 39,
     "metadata": {},
     "output_type": "execute_result"
    }
   ],
   "source": [
    "'''\n",
    "print(grid_search.best_params_)\n",
    "print(grid_search.cv_results_)\n",
    "'''"
   ]
  },
  {
   "cell_type": "code",
   "execution_count": null,
   "metadata": {},
   "outputs": [
    {
     "name": "stderr",
     "output_type": "stream",
     "text": [
      "/Library/Frameworks/Python.framework/Versions/3.7/lib/python3.7/site-packages/sklearn/linear_model/stochastic_gradient.py:144: FutureWarning: max_iter and tol parameters have been added in SGDClassifier in 0.19. If both are left unset, they default to max_iter=5 and tol=None. If tol is not None, max_iter defaults to max_iter=1000. From 0.21, default max_iter will be 1000, and default tol will be 1e-3.\n",
      "  FutureWarning)\n",
      "/Library/Frameworks/Python.framework/Versions/3.7/lib/python3.7/site-packages/sklearn/linear_model/stochastic_gradient.py:144: FutureWarning: max_iter and tol parameters have been added in SGDClassifier in 0.19. If both are left unset, they default to max_iter=5 and tol=None. If tol is not None, max_iter defaults to max_iter=1000. From 0.21, default max_iter will be 1000, and default tol will be 1e-3.\n",
      "  FutureWarning)\n",
      "/Library/Frameworks/Python.framework/Versions/3.7/lib/python3.7/site-packages/sklearn/linear_model/stochastic_gradient.py:144: FutureWarning: max_iter and tol parameters have been added in SGDClassifier in 0.19. If both are left unset, they default to max_iter=5 and tol=None. If tol is not None, max_iter defaults to max_iter=1000. From 0.21, default max_iter will be 1000, and default tol will be 1e-3.\n",
      "  FutureWarning)\n"
     ]
    },
    {
     "data": {
      "image/png": "[encoded data removed]",
      "text/plain": [
       "<Figure size 288x288 with 1 Axes>"
      ]
     },
     "metadata": {
      "needs_background": "light"
     },
     "output_type": "display_data"
    }
   ],
   "source": [
    "y_pred=cross_val_predict(clf,X_train_scaled,y_train,cv=3)\n",
    "cf_matrix=confusion_matrix(y_train,y_pred)\n",
    "cf_matrix\n",
    "plt.matshow(cf_matrix,cmap=plt.cm.gray)\n",
    "plt.show()"
   ]
  },
  {
   "cell_type": "code",
   "execution_count": null,
   "metadata": {},
   "outputs": [
    {
     "data": {
      "image/png": "[encoded data removed]",
      "text/plain": [
       "<Figure size 288x288 with 1 Axes>"
      ]
     },
     "metadata": {
      "needs_background": "light"
     },
     "output_type": "display_data"
    }
   ],
   "source": [
    "cf_row_sum=cf_matrix.sum(axis=1,keepdims=True)\n",
    "new_cf_matrix=cf_matrix/cf_row_sum\n",
    "np.fill_diagonal(new_cf_matrix,0)\n",
    "plt.matshow(new_cf_matrix,cmap=plt.cm.gray)\n",
    "plt.show()"
   ]
  },
  {
   "cell_type": "code",
   "execution_count": null,
   "metadata": {},
   "outputs": [
    {
     "data": {
      "image/png": "[encoded data removed]",
      "text/plain": [
       "<Figure size 576x576 with 4 Axes>"
      ]
     },
     "metadata": {
      "needs_background": "light"
     },
     "output_type": "display_data"
    }
   ],
   "source": [
    "# EXTRA\n",
    "def plot_digits(instances, images_per_row=10, **options):\n",
    "    size = 28\n",
    "    images_per_row = min(len(instances), images_per_row)\n",
    "    images = [instance.reshape(size,size) for instance in instances]\n",
    "    n_rows = (len(instances) - 1) // images_per_row + 1\n",
    "    row_images = []\n",
    "    n_empty = n_rows * images_per_row - len(instances)\n",
    "    images.append(np.zeros((size, size * n_empty)))\n",
    "    for row in range(n_rows):\n",
    "        rimages = images[row * images_per_row : (row + 1) * images_per_row]\n",
    "        row_images.append(np.concatenate(rimages, axis=1))\n",
    "    image = np.concatenate(row_images, axis=0)\n",
    "    plt.imshow(image, cmap = matplotlib.cm.binary, **options)\n",
    "    plt.axis(\"off\")\n",
    "y_train_pred=y_pred\n",
    "cl_a, cl_b = 3, 5\n",
    "X_aa = X_train[(y_train == cl_a) & (y_train_pred == cl_a)]\n",
    "X_ab = X_train[(y_train == cl_a) & (y_train_pred == cl_b)]\n",
    "X_ba = X_train[(y_train == cl_b) & (y_train_pred == cl_a)]\n",
    "X_bb = X_train[(y_train == cl_b) & (y_train_pred == cl_b)]\n",
    "plt.figure(figsize=(8,8))\n",
    "plt.subplot(221); plot_digits(X_aa[:25], images_per_row=5)\n",
    "plt.subplot(222); plot_digits(X_ab[:25], images_per_row=5)\n",
    "plt.subplot(223); plot_digits(X_ba[:25], images_per_row=5)\n",
    "plt.subplot(224); plot_digits(X_bb[:25], images_per_row=5)\n",
    "plt.show()"
   ]
  },
  {
   "cell_type": "code",
   "execution_count": null,
   "metadata": {},
   "outputs": [
    {
     "data": {
      "text/plain": [
       "array([[0, 0, 0, ..., 0, 0, 0],\n",
       "       [0, 0, 0, ..., 0, 0, 0],\n",
       "       [0, 0, 0, ..., 0, 0, 0],\n",
       "       ...,\n",
       "       [0, 0, 0, ..., 0, 0, 0],\n",
       "       [0, 0, 0, ..., 0, 0, 0],\n",
       "       [0, 0, 0, ..., 0, 0, 0]])"
      ]
     },
     "execution_count": 43,
     "metadata": {},
     "output_type": "execute_result"
    }
   ],
   "source": [
    "X_train"
   ]
  },
  {
   "cell_type": "code",
   "execution_count": null,
   "metadata": {},
   "outputs": [],
   "source": [
    "noise=np.random.randint(0,100,size=[len(X_train),784])\n",
    "X_train_noise=(X_train+noise)\n",
    "X_test_noise=X_test+noise[:len(X_test)]"
   ]
  },
  {
   "cell_type": "code",
   "execution_count": null,
   "metadata": {},
   "outputs": [
    {
     "data": {
      "image/png": "[encoded data removed]",
      "text/plain": [
       "<Figure size 432x288 with 1 Axes>"
      ]
     },
     "metadata": {
      "needs_background": "light"
     },
     "output_type": "display_data"
    }
   ],
   "source": [
    "plt.imshow(X_train_noise[50].reshape(28,28),cmap=matplotlib.cm.binary )\n",
    "plt.axis('off')\n",
    "plt.show()"
   ]
  },
  {
   "cell_type": "code",
   "execution_count": null,
   "metadata": {},
   "outputs": [],
   "source": [
    "from sklearn.neighbors import KNeighborsClassifier as knn\n",
    "knn_clf=knn()\n",
    "knn_clf.fit(X_train_noise,X_train)\n",
    "noise_pred=knn_clf.predict(X_train_noise)\n",
    "print(noise_pred)"
   ]
  },
  {
   "cell_type": "code",
   "execution_count": null,
   "metadata": {},
   "outputs": [],
   "source": [
    "plt.imshow(noise_pred[50].reshape(28,28),cmap=matplotlib.cm.binary)\n",
    "plt.show()"
   ]
  },
  {
   "cell_type": "code",
   "execution_count": null,
   "metadata": {},
   "outputs": [],
   "source": [
    "'finished'"
   ]
  },
  {
   "cell_type": "code",
   "execution_count": null,
   "metadata": {},
   "outputs": [],
   "source": []
  }
 ],
 "metadata": {
  "kernelspec": {
   "display_name": "Python 3",
   "language": "python",
   "name": "python3"
  },
  "language_info": {
   "codemirror_mode": {
    "name": "ipython",
    "version": 3
   },
   "file_extension": ".py",
   "mimetype": "text/x-python",
   "name": "python",
   "nbconvert_exporter": "python",
   "pygments_lexer": "ipython3",
   "version": "3.7.0"
  }
 },
 "nbformat": 4,
 "nbformat_minor": 2
}
