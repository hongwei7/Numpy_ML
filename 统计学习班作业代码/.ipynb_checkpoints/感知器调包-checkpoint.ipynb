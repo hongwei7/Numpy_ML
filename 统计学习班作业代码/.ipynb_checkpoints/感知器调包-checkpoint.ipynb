{
 "cells": [
  {
   "cell_type": "code",
   "execution_count": 40,
   "metadata": {},
   "outputs": [
    {
     "name": "stdout",
     "output_type": "stream",
     "text": [
      "used_time: 0.0007219314575195312\n",
      "[3 3] 1 1\n",
      "[4 3] 1 1\n",
      "[1 1] -1 -1\n"
     ]
    },
    {
     "data": {
      "image/png": "[encoded data removed]",
      "text/plain": [
       "<Figure size 432x288 with 1 Axes>"
      ]
     },
     "metadata": {
      "needs_background": "light"
     },
     "output_type": "display_data"
    }
   ],
   "source": [
    "#随机梯度下降\n",
    "import numpy as np\n",
    "import matplotlib.pyplot as plt\n",
    "%matplotlib inline\n",
    "import time\n",
    "class perceptron():\n",
    "    def __init__(self,eta=1):\n",
    "        self.eta=eta\n",
    "    def sign(self,f):\n",
    "        if f>=0:\n",
    "            return 1\n",
    "        else:\n",
    "            return -1\n",
    "    def predict(self,xi):\n",
    "        return(self.sign(self.w.dot(xi)+self.b))\n",
    "    def train(self,x,y):\n",
    "        all_divided=False\n",
    "        self.w=np.zeros((x.shape[1]))\n",
    "        self.b=0\n",
    "        while not all_divided:\n",
    "            num=np.random.randint(len(x))\n",
    "            xi,yi=x[num],y[num]\n",
    "            pre_yi=self.predict(xi)\n",
    "            if(pre_yi!=yi):\n",
    "                self.w=self.w+self.eta*xi*yi\n",
    "                self.b=self.b+self.eta*yi\n",
    "            all_divided=True\n",
    "            for i,xi in enumerate(x):\n",
    "                if self.predict(xi)!=y[i]:\n",
    "                    all_divided=False\n",
    "                    break\n",
    "def main():\n",
    "    x=np.array([[3,3],[4,3],[1,1]])\n",
    "    y=np.array([1,1,-1])\n",
    "    clf=perceptron()\n",
    "    t1=time.time()\n",
    "    clf.train(x,y)\n",
    "    print('used_time:',time.time()-t1)   \n",
    "    for i,xi in enumerate(x):\n",
    "        print(xi,clf.predict(xi),y[i])\n",
    "    plt.plot([3,4],[3,3],'r.')\n",
    "    plt.plot(1,1,'g.')\n",
    "    plt.plot([0,4],[(-clf.b-clf.w[0]*0)/clf.w[1],\n",
    "        (-clf.b-clf.w[0]*4)/clf.w[1]],'b')\n",
    "    plt.show()\n",
    "if __name__ == '__main__':\n",
    "    main()"
   ]
  },
  {
   "cell_type": "code",
   "execution_count": 42,
   "metadata": {},
   "outputs": [
    {
     "name": "stdout",
     "output_type": "stream",
     "text": [
      "used_time: 0.0026047229766845703\n",
      "[3 3] 1 1\n",
      "[4 3] 1 1\n",
      "[1 1] -1 -1\n"
     ]
    },
    {
     "data": {
      "image/png": "[encoded data removed]",
      "text/plain": [
       "<Figure size 432x288 with 1 Axes>"
      ]
     },
     "metadata": {
      "needs_background": "light"
     },
     "output_type": "display_data"
    }
   ],
   "source": [
    "#利用对偶形式\n",
    "import numpy as np\n",
    "import matplotlib.pyplot as plt\n",
    "import time\n",
    "class perceptron():\n",
    "    def __init__(self,eta=0.1):\n",
    "        self.eta=eta\n",
    "    def sign(self,f):\n",
    "        if f>=0:\n",
    "            return 1\n",
    "        else:\n",
    "            return -1\n",
    "    def predict(self,xi):\n",
    "        return(self.sign(self.w.dot(xi)+self.b))\n",
    "    def train(self,x,y):\n",
    "        all_divided=False\n",
    "        self.alpha=np.zeros((len(x)))\n",
    "        self.w=np.zeros((x.shape[1]))\n",
    "        self.b=0\n",
    "        while not all_divided:\n",
    "            num=np.random.randint(len(x))\n",
    "            xi,yi=x[num],y[num]\n",
    "            w_sum=y[0]*self.alpha[0]*x[0]\n",
    "            for j,xj in enumerate(x[1:]):\n",
    "                w_sum=w_sum+y[j+1]*self.alpha[j+1]*(x[j+1])\n",
    "            g=yi*(w_sum.dot(xi)+self.b)\n",
    "            if(g<=0):\n",
    "                self.alpha[num]=self.alpha[num]+self.eta\n",
    "                self.b=self.b+self.eta*yi\n",
    "                w_sum=y[0]*self.alpha[0]*x[0]\n",
    "                for j,xj in enumerate(x[1:]):\n",
    "                    w_sum=w_sum+y[j+1]*self.alpha[j+1]*(x[j+1])\n",
    "                self.w=w_sum\n",
    "            all_divided=True\n",
    "            for i,xi in enumerate(x):\n",
    "                if self.predict(xi)!=y[i]:\n",
    "                    all_divided=False\n",
    "                    break\n",
    "def main():\n",
    "    x=np.array([[3,3],[4,3],[1,1]])\n",
    "    y=np.array([1,1,-1])\n",
    "    clf=perceptron()\n",
    "    t1=time.time()\n",
    "    clf.train(x,y)\n",
    "    print('used_time:',time.time()-t1)\n",
    "    for i,xi in enumerate(x):\n",
    "        print(xi,clf.predict(xi),y[i])\n",
    "    plt.plot([3,4],[3,3],'r.')\n",
    "    plt.plot(1,1,'g.')\n",
    "    plt.plot([0,4],[(-clf.b-clf.w[0]*0)/clf.w[1],\n",
    "        (-clf.b-clf.w[0]*4)/clf.w[1]],'b')\n",
    "    plt.show()\n",
    "if __name__ == '__main__':\n",
    "    main()"
   ]
  },
  {
   "cell_type": "code",
   "execution_count": 43,
   "metadata": {},
   "outputs": [
    {
     "name": "stderr",
     "output_type": "stream",
     "text": [
      "/Library/Frameworks/Python.framework/Versions/3.7/lib/python3.7/site-packages/sklearn/linear_model/stochastic_gradient.py:144: FutureWarning: max_iter and tol parameters have been added in Perceptron in 0.19. If both are left unset, they default to max_iter=5 and tol=None. If tol is not None, max_iter defaults to max_iter=1000. From 0.21, default max_iter will be 1000, and default tol will be 1e-3.\n",
      "  FutureWarning)\n"
     ]
    },
    {
     "data": {
      "text/plain": [
       "0.0007066726684570312"
      ]
     },
     "execution_count": 43,
     "metadata": {},
     "output_type": "execute_result"
    }
   ],
   "source": [
    "#调包sklearn\n",
    "import numpy as np\n",
    "from sklearn.linear_model import Perceptron\n",
    "import time\n",
    "x=np.array([[3,3],[4,3],[1,1]])\n",
    "y=np.array([1,1,-1])\n",
    "clf=Perceptron(eta0=1)\n",
    "t1=time.time()\n",
    "clf.fit(x,y)\n",
    "time.time()-t1"
   ]
  }
 ],
 "metadata": {
  "kernelspec": {
   "display_name": "Python 3",
   "language": "python",
   "name": "python3"
  },
  "language_info": {
   "codemirror_mode": {
    "name": "ipython",
    "version": 3
   },
   "file_extension": ".py",
   "mimetype": "text/x-python",
   "name": "python",
   "nbconvert_exporter": "python",
   "pygments_lexer": "ipython3",
   "version": "3.7.0"
  }
 },
 "nbformat": 4,
 "nbformat_minor": 2
}
