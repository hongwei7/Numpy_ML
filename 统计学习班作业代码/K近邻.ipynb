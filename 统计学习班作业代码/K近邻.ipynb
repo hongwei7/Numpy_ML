{
 "cells": [
  {
   "cell_type": "code",
   "execution_count": 2,
   "metadata": {},
   "outputs": [
    {
     "name": "stdout",
     "output_type": "stream",
     "text": [
      "K= 1 时,S点 [5 3] 的预测值为： 1\n",
      "K= 2 时,S点 [5 3] 的预测值为： 1\n",
      "K= 3 时,S点 [5 3] 的预测值为： -1\n",
      "K= 4 时,S点 [5 3] 的预测值为： -1\n",
      "K= 5 时,S点 [5 3] 的预测值为： -1\n",
      "K= 6 时,S点 [5 3] 的预测值为： 1\n"
     ]
    },
    {
     "data": {
      "image/png": "[encoded data removed]",
      "text/plain": [
       "<Figure size 432x288 with 1 Axes>"
      ]
     },
     "metadata": {
      "needs_background": "light"
     },
     "output_type": "display_data"
    },
    {
     "name": "stdout",
     "output_type": "stream",
     "text": [
      "正实例：红色\n",
      "负实例：绿色\n",
      "预测实例：蓝色\n"
     ]
    }
   ],
   "source": [
    "import numpy as np\n",
    "from matplotlib import pyplot as plt\n",
    "from collections import Counter\n",
    "%matplotlib inline\n",
    "class KNN(object):\n",
    "    def __init__(self, X, y,k=3):\n",
    "        self.X = X\n",
    "        self.y = y\n",
    "        self.k = k\n",
    "\n",
    "    def single_predict(self, x):\n",
    "        diffmat = np.repeat(x, self.X.shape[0]).reshape(\n",
    "            x.shape[1], self.X.shape[0]).T - self.X\n",
    "        squarediffmat = ((np.matrix(np.array(diffmat)**2))\n",
    "            .sum(axis=1)).astype('float')\n",
    "        result = []\n",
    "        for k in range(self.k):\n",
    "            index = np.where(squarediffmat == np.min(squarediffmat))\n",
    "            result.append(self.y[index[0][0]])\n",
    "            squarediffmat[index] = float('inf')\n",
    "        return Counter(result).most_common(1)[0][0]\n",
    "\n",
    "def main():\n",
    "    X_train=np.array([[5,4],[9,6],[4,7],[2,3],[8,1],[7,2]])\n",
    "    y_train=np.array([1,1,1,-1,-1,-1])\n",
    "    X_test=np.array([[5,3]])\n",
    "    for k in range(1,7):\n",
    "        clf = KNN(X_train, y_train,k=k)\n",
    "        pre_y = clf.single_predict(X_test)\n",
    "        print('K=',k,'时,S点',X_test[0],'的预测值为：',pre_y)\n",
    "    plt.plot([5,9,4],[4,6,7],'r.')\n",
    "    plt.plot([2,8,7],[3,1,2],'g.')\n",
    "    plt.plot(5,3,'b.')\n",
    "    plt.show()\n",
    "    print('正实例：红色')\n",
    "    print('负实例：绿色')\n",
    "    print('预测实例：蓝色')\n",
    "\n",
    "if __name__ == '__main__':\n",
    "    main()"
   ]
  },
  {
   "cell_type": "code",
   "execution_count": null,
   "metadata": {},
   "outputs": [],
   "source": []
  }
 ],
 "metadata": {
  "kernelspec": {
   "display_name": "Python 3",
   "language": "python",
   "name": "python3"
  },
  "language_info": {
   "codemirror_mode": {
    "name": "ipython",
    "version": 3
   },
   "file_extension": ".py",
   "mimetype": "text/x-python",
   "name": "python",
   "nbconvert_exporter": "python",
   "pygments_lexer": "ipython3",
   "version": "3.7.0"
  }
 },
 "nbformat": 4,
 "nbformat_minor": 2
}
